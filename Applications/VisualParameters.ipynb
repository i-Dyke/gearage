{
 "cells": [
  {
   "cell_type": "code",
   "execution_count": 1,
   "metadata": {},
   "outputs": [],
   "source": [
    "import os\n",
    "import numpy as np \n",
    "import sympy as s\n",
    "import matplotlib.pyplot as plt\n",
    "import pandas as pd\n",
    "import scipy as sci\n",
    "from IPython.display import Markdown, display, Math, HTML"
   ]
  },
  {
   "cell_type": "markdown",
   "metadata": {},
   "source": [
    "# Involute Spur Gear Geometry Calculations\n",
    "\n",
    "As derived from industry formulas.\n",
    "\n",
    "Key features:\n",
    "* Standard Involute Curve Form\n",
    "* Profile Shifts \n",
    "* Measure over/between Wires\n",
    "\n",
    "![MOW Gear](assets/ExampleMOW.png)"
   ]
  },
  {
   "cell_type": "markdown",
   "metadata": {},
   "source": [
    "Some internal scripts for simplification:"
   ]
  },
  {
   "cell_type": "code",
   "execution_count": 2,
   "metadata": {},
   "outputs": [],
   "source": [
    "A, B = s.symbols(\"\\\\alpha \\\\THeta\")\n",
    "InvoFunc = s.tan(A) - A - B\n",
    "InvoFuncPrime = s.diff(InvoFunc, A)\n",
    "#display(Math(\"0 = %s\"%(InvoFunc)), Math(\"0 = %s\"%(InvoFuncPrime)))\n",
    "InvoFuncLambda = s.lambdify((A,B), InvoFunc, \"numpy\")\n",
    "InvoFuncPrimeLambda = s.lambdify(A, InvoFuncPrime, \"numpy\")\n",
    "\n",
    "# Newton's Method\n",
    "def newtons(target, func = InvoFuncLambda, funcPrime = InvoFuncPrimeLambda, initial = 1, tol = 1e-10, max_iter = 1000):\n",
    "    # Iterative Step Angle\n",
    "    ang = initial\n",
    "    for _ in range(max_iter):\n",
    "        fval = func(ang, target)\n",
    "        fvalPrime = funcPrime(ang)\n",
    "        angPlus = ang - fval / fvalPrime\n",
    "        if np.abs(angPlus - ang) < tol:\n",
    "            return angPlus\n",
    "        ang = angPlus\n",
    "    raise ValueError(\"Newton Did Not Converge from Inputs\")"
   ]
  },
  {
   "cell_type": "code",
   "execution_count": 3,
   "metadata": {},
   "outputs": [],
   "source": [
    "# Small Dictionary-Adding Solver Function for later brevity\n",
    "def solve(symbol, dictionary, equation):\n",
    "    #if sum([symbol == var for var in vars.keys()]) < 1:\n",
    "    dictionary[symbol] = float(s.solve(equation.subs(dictionary), symbol)[0])\n",
    "    #else:\n",
    "    #    display(\"Already Provided: %s\"%symbol)s"
   ]
  },
  {
   "cell_type": "markdown",
   "metadata": {},
   "source": [
    "## Definition of Terms\n",
    "\n",
    "Inputs:\n",
    "\n",
    "\n",
    "$N -$ num :: Number of Teeth\n",
    "\n",
    "$P - $ Pitch, the spacing from one tooth to another. Most easily thought about as circular pitch $P_C$, along the circumference, but often used on the Diametral basis $P_D$. Note that $P_C$ spans both a tooth and space, but $P_D$ is in a sense only 'describes' the teeth, and therefore differs by factor 2.\n",
    "\n",
    "__Input Values__\n",
    "\n",
    "| Var | Unit | Name | Formula | Note\n",
    "|:----:|:----:|:----:|:----:|:----:|\n",
    "| $N$ |  - | Number of Teeth | - \n",
    "| $P$ | in/in | Pitch | - | Tooth-to-tooth spacing\n",
    "| $P_C$ | in/in | Pitch, Circumferential | $\\frac{2 \\pi}{P_D} \\times \\frac{1}{2} \\rightarrow \\frac{\\pi}{P_D}$ | Describes tooth-to-tooth (tooth+space)\n",
    "| $P_D$ | in/in | Pitch, Diameteral | $\\frac{\\pi}{P_C}$ | Describes tooth-to-space (tooth only)\n",
    "| $\\beta$ | RAD | Pressure Angle, Definitional | - | The tooth-curve pressure angle\n",
    "| $\\gamma$ | RAD | Helix Angle (helical gear) | - \n",
    "| $L_b$ | in | Backlash | - \n",
    "| $CTC$ | in | Center to Center Distance | -\n",
    "| $H_f$ | in/in | Adjustment of Height, Minor Diameter | - \n",
    "| $D_{pin}$ | in | Measurement Pin Diameter | - \n",
    "| $Lead$ | in | Lead | - | Helical displacement of tooth from straight axis line.\n",
    "\n",
    "__Calculation Values__\n",
    "\n",
    "| Var | Unit | Name | Formula | Note\n",
    "|:----:|:----:|:----:|:----:|:----:|\n",
    "| $D_P$ | in | Diameter, Pitch | $\\frac{N}{P_D}$ | -\n",
    "| $D_{base}$ | in | Diameter, Base | - | Starting Diameter of Involute Profile Generation\n",
    "| $D_{form}$ | in | Diameter, Form | - | Start of Actual Involute Form; relevant in undercut or modified fillet gears.\n",
    "| $CTT$ | in | Circular Tooth Thickness | - | By default equals $P_C/2$, but will change due to modifications (backlash)\n",
    "| $CSW$ | in | Circular Space Width | $P_C - CTT$ | Used as basis instead of CTT for internal gears.\n",
    "| $D_{add}$ | in | Diameter, Addendum | $\\frac{N+2}{P_D}$ | The \"top\" of the gear tooth. Standardized formula shown, though it is open for adjustment\n",
    "| $D_{ded}$ | in | Diameter, Dedendum | $D_P - \\frac{2 H_f}{P_D}$ | The bottom (root) of the gear\n",
    "| $MOW/MBW$ | in | Measure Over/Between Wires | __See below__ | Caliper dimension over gage pins. Useful for determining CSW/CTT, and therefore profile adjustments, in applications.\n",
    "| $\\alpha$ | RAD | Pressure Angle, Curve | __See below__ | The variable for pressure angle as it evolves along the curve form; distinct from the curve definition pressure angle $\\beta$\n",
    "\n",
    "\n",
    "**Modifiers:**\n",
    "\n",
    "$/e/$ Equation\n",
    "\n",
    "$/trv/$ Transverse _(for non-straight teeth ~ helical)_\n",
    "\n",
    "$/m/$ Maximum\n",
    "\n",
    "$/n/$ Minimum\n",
    "\n",
    "$/a/$ Average\n",
    "\n",
    "$/u/$ Upper Tolerance\n",
    "\n",
    "$/l/$ Lower Tolerance\n",
    "\n",
    "$/r/$ Roughing"
   ]
  },
  {
   "cell_type": "code",
   "execution_count": 4,
   "metadata": {},
   "outputs": [],
   "source": [
    "N, Pd, Beta, Gamma, Hf, Dpin, CTC = s.symbols(\"N P_d \\\\beta \\\\gamma H_f D_{pin} CTC\")\n",
    "Dp, Dbase, Dadd, Dded, Dform = s.symbols(\"D_p D_{base} D_{add} D_{ded} D_{form}\")\n",
    "\n",
    "CTT, CSW = s.symbols(\"CTT CSW\")\n",
    "CTTstd, CSWstd = s.symbols(\"CTT_{std} CSW_{std}\")\n",
    "\n",
    "tBeta, tGamma, tDpin = s.symbols(\"\\\\beta_{trv} \\\\gamma_{trv} D_{pin-trv}\")\n",
    "rSTK, raCTT = s.symbols(\"STK CTT_{avg-roughing}\")\n",
    "AlpStart = s.symbols(\"\\\\alpha_{start}\")\n"
   ]
  },
  {
   "cell_type": "code",
   "execution_count": 5,
   "metadata": {},
   "outputs": [],
   "source": [
    "eDp = s.Eq(Dp, N / Pd)\n",
    "\n",
    "etBeta = s.Eq(tBeta, s.atan( s.tan(Beta) / s.cos(Gamma) ))\n",
    "\n",
    "eDbase = s.Eq(Dbase, Dp * s.cos( tBeta ), evaluate = False )\n",
    "\n",
    "etGamma = s.Eq(tGamma, s.atan( s.tan(Gamma) * s.cos(tBeta)))\n",
    "\n",
    "eCTTstd = s.Eq(CTTstd, Dp * s.pi / N /2)\n",
    "\n",
    "eCSW = s.Eq(CSW, (Dp * s.pi / N) - CTT)\n",
    "\n",
    "eDadd = s.Eq(Dadd, (N + 2)/ Pd)\n",
    "\n",
    "eDded = s.Eq(Dded, Dp - 2 * (Hf/Pd) )\n",
    "\n",
    "etDpin = s.Eq(tDpin, Dpin / s.cos(tGamma))"
   ]
  },
  {
   "cell_type": "code",
   "execution_count": 6,
   "metadata": {},
   "outputs": [
    {
     "data": {
      "text/latex": [
       "$\\displaystyle D_{p} = \\frac{N}{P_{d}}$"
      ],
      "text/plain": [
       "Eq(D_p, N/P_d)"
      ]
     },
     "metadata": {},
     "output_type": "display_data"
    },
    {
     "data": {
      "text/latex": [
       "$\\displaystyle \\beta_{trv} = \\operatorname{atan}{\\left(\\frac{\\tan{\\left(\\beta \\right)}}{\\cos{\\left(\\gamma \\right)}} \\right)}$"
      ],
      "text/plain": [
       "Eq(\\beta_{trv}, atan(tan(\\beta)/cos(\\gamma)))"
      ]
     },
     "metadata": {},
     "output_type": "display_data"
    },
    {
     "data": {
      "text/latex": [
       "$\\displaystyle D_{base} = D_{p} \\cos{\\left(\\beta_{trv} \\right)}$"
      ],
      "text/plain": [
       "Eq(D_{base}, D_p*cos(\\beta_{trv}))"
      ]
     },
     "metadata": {},
     "output_type": "display_data"
    },
    {
     "data": {
      "text/latex": [
       "$\\displaystyle \\gamma_{trv} = \\operatorname{atan}{\\left(\\cos{\\left(\\beta_{trv} \\right)} \\tan{\\left(\\gamma \\right)} \\right)}$"
      ],
      "text/plain": [
       "Eq(\\gamma_{trv}, atan(cos(\\beta_{trv})*tan(\\gamma)))"
      ]
     },
     "metadata": {},
     "output_type": "display_data"
    },
    {
     "data": {
      "text/latex": [
       "$\\displaystyle D_{add} = \\frac{N + 2}{P_{d}}$"
      ],
      "text/plain": [
       "Eq(D_{add}, (N + 2)/P_d)"
      ]
     },
     "metadata": {},
     "output_type": "display_data"
    },
    {
     "data": {
      "text/latex": [
       "$\\displaystyle D_{ded} = D_{p} - \\frac{2 H_{f}}{P_{d}}$"
      ],
      "text/plain": [
       "Eq(D_{ded}, D_p - 2*H_f/P_d)"
      ]
     },
     "metadata": {},
     "output_type": "display_data"
    },
    {
     "data": {
      "text/latex": [
       "$\\displaystyle D_{pin-trv} = \\frac{D_{pin}}{\\cos{\\left(\\gamma_{trv} \\right)}}$"
      ],
      "text/plain": [
       "Eq(D_{pin-trv}, D_{pin}/cos(\\gamma_{trv}))"
      ]
     },
     "metadata": {},
     "output_type": "display_data"
    }
   ],
   "source": [
    "display(eDp, etBeta, eDbase, etGamma, eDadd, eDded, etDpin)"
   ]
  },
  {
   "cell_type": "markdown",
   "metadata": {},
   "source": [
    "## MOW Max & Min"
   ]
  },
  {
   "cell_type": "markdown",
   "metadata": {},
   "source": [
    "### Formulas & Explanation\n",
    "\n",
    "Determining the distance of the MOW/MBW requires an understanding of where the gage pin will rest along the involute curve of the gear tooth. The first step is determining the __involute angle__ $\\Theta$ at which the pin will be able to contact the form; from there, there is a relationship of $\\Theta$ to the __pressure angle__ $\\alpha$, though it must be solve non-algebraically. With known pressure, the actual location of the pin contact along the tooth form is defined, and as such a final formula may be used to span the base diameter and the pin diameter."
   ]
  },
  {
   "cell_type": "markdown",
   "metadata": {},
   "source": [
    "1) Involute Angle $\\Theta$\n",
    "\n",
    "$\\Theta_{m|n} = (\\frac{CTT_{m|n}}{D_P cos(\\gamma)}  - \\frac{\\pi}{N}) + (tan(\\beta_{trv}) - \\beta_{trv}) + \\frac{D_{pin-trv}}{D_{base}}$\n",
    "\n",
    "* The $\\frac{CTT}{D_P}$ term determines the radian angle offset from the center of the tooth spacing, with the basic distance being the $\\pi/N$ ; dividing by $cos(\\gamma)$ adjusts this for an helix angle.\n",
    "\n",
    "* The $tan(\\beta_{trv}) - \\beta_{trv}$ term is the wrap angle output at the definitional pressure angle, as found at the pitch diameter (importantly, the same diameter as the CTT is measured). This is a component of the offsetting from the CTT line to the involute start location.\n",
    "\n",
    "* The $\\frac{D_{pin}}{D_{base}}$ term is an additional offset accounting for the pin diameter as it must rest between the teeth; _the physical representation of this radian term is to be determined_.\n"
   ]
  },
  {
   "cell_type": "markdown",
   "metadata": {},
   "source": [
    "2) Variable Pressure Angle $\\alpha$\n",
    "\n",
    "$\\Theta_{m|n} = tan(\\alpha_{m|n}) - \\alpha_{m|n}$\n",
    "\n",
    "* There is no discrete formula for deriving the pressure angle from the given involute angle; it must be calculated through numerical means.\n",
    "\n",
    "* As example, _Newton's Method_. To do this requires taking the derivative of the involute function, to arrive at $\\dot{\\Theta} = tan^2(\\alpha)$; see the _newtons_ script in the header."
   ]
  },
  {
   "cell_type": "markdown",
   "metadata": {},
   "source": [
    "3) Measure Over Wires\n",
    "\n",
    "For even tooth number (gage pins directly opposing):\n",
    "\n",
    "$MOW_{m|n} = D_{pin} + \\frac{D_{base}}{cos(\\alpha_{m|n})}$\n",
    "\n",
    "For odd tooth number (gage pin opposes a tooth):\n",
    "\n",
    "$MOW_{m|n} = D_{pin} + \\frac{D_{base}}{cos(\\alpha_{m|n})} \\times cos(\\frac{\\pi}{2N})$"
   ]
  },
  {
   "cell_type": "code",
   "execution_count": 7,
   "metadata": {},
   "outputs": [
    {
     "data": {
      "text/latex": [
       "$\\displaystyle Involute_{max} = \\frac{CTT_{max}}{D_{p} \\cos{\\left(\\gamma \\right)}} - \\beta_{trv} + \\tan{\\left(\\beta_{trv} \\right)} - \\frac{\\pi}{N} + \\frac{D_{pin-trv}}{D_{base}}$"
      ],
      "text/plain": [
       "Eq(Involute_{max}, CTT_{max}/(D_p*cos(\\gamma)) - \\beta_{trv} + tan(\\beta_{trv}) - pi/N + D_{pin-trv}/D_{base})"
      ]
     },
     "metadata": {},
     "output_type": "display_data"
    },
    {
     "data": {
      "text/latex": [
       "$\\displaystyle Involute_{min} = \\frac{CTT_{min}}{D_{p} \\cos{\\left(\\gamma \\right)}} - \\beta_{trv} + \\tan{\\left(\\beta_{trv} \\right)} - \\frac{\\pi}{N} + \\frac{D_{pin-trv}}{D_{base}}$"
      ],
      "text/plain": [
       "Eq(Involute_{min}, CTT_{min}/(D_p*cos(\\gamma)) - \\beta_{trv} + tan(\\beta_{trv}) - pi/N + D_{pin-trv}/D_{base})"
      ]
     },
     "metadata": {},
     "output_type": "display_data"
    },
    {
     "data": {
      "text/latex": [
       "$\\displaystyle \\Theta_{max} = - \\alpha_{max} + \\tan{\\left(\\alpha_{max} \\right)}$"
      ],
      "text/plain": [
       "Eq(\\Theta_{max}, -\\alpha_{max} + tan(\\alpha_{max}))"
      ]
     },
     "metadata": {},
     "output_type": "display_data"
    },
    {
     "data": {
      "text/latex": [
       "$\\displaystyle \\Theta_{min} = - \\alpha_{min} + \\tan{\\left(\\alpha_{min} \\right)}$"
      ],
      "text/plain": [
       "Eq(\\Theta_{min}, -\\alpha_{min} + tan(\\alpha_{min}))"
      ]
     },
     "metadata": {},
     "output_type": "display_data"
    },
    {
     "data": {
      "text/latex": [
       "$\\displaystyle MOW_{max} = \\left(\\frac{D_{base} \\left(\\left(\\left(\\cos{\\left(\\frac{\\pi}{2 N} \\right)} - 1\\right) \\left(N \\bmod 2\\right)\\right) + 1\\right)}{\\cos{\\left(\\alpha_{max} \\right)}}\\right) + D_{pin}$"
      ],
      "text/plain": [
       "Eq(MOW_{max}, D_{base}*((cos(pi/(2*N)) - 1)*(Mod(N, 2)) + 1)/cos(\\alpha_{max}) + D_{pin})"
      ]
     },
     "metadata": {},
     "output_type": "display_data"
    },
    {
     "data": {
      "text/latex": [
       "$\\displaystyle MOW_{min} = \\left(\\frac{D_{base} \\left(\\left(\\left(\\cos{\\left(\\frac{\\pi}{2 N} \\right)} - 1\\right) \\left(N \\bmod 2\\right)\\right) + 1\\right)}{\\cos{\\left(\\alpha_{min} \\right)}}\\right) + D_{pin}$"
      ],
      "text/plain": [
       "Eq(MOW_{min}, D_{base}*((cos(pi/(2*N)) - 1)*(Mod(N, 2)) + 1)/cos(\\alpha_{min}) + D_{pin})"
      ]
     },
     "metadata": {},
     "output_type": "display_data"
    }
   ],
   "source": [
    "mAlpha, nAlpha = s.symbols(\"\\\\alpha_{max}, \\\\alpha_{min}\")\n",
    "mInvo, nInvo = s.symbols(\"Involute_{max}, Involute_{min}\")\n",
    "uCTT, lCTT = s.symbols(\"CTTtol_{upper} CTTtol_{lower}\")\n",
    "mCTT, nCTT = s.symbols(\"CTT_{max} CTT_{min}\")\n",
    "mTheta, nTheta = s.symbols(\"\\\\Theta_{max} \\\\Theta_{min}\")\n",
    "mMOW, nMOW, mMBW, nMBW = s.symbols(\"MOW_{max} MOW_{min} MBW_{max} MBW_{min}\")\n",
    "\n",
    "emCTT = s.Eq(mCTT, CTT + uCTT)\n",
    "enCTT = s.Eq(nCTT, CTT - lCTT)\n",
    "\n",
    "emInvo = s.Eq(mInvo, mCTT / s.cos(Gamma) / Dp + tDpin / Dbase + s.tan(tBeta) - tBeta - s.pi / N)\n",
    "enInvo = s.Eq(nInvo, nCTT / s.cos(Gamma) / Dp + tDpin / Dbase + s.tan(tBeta) - tBeta - s.pi / N)\n",
    "\n",
    "emTheta = s.Eq(mTheta, s.tan(mAlpha) - mAlpha)\n",
    "enTheta = s.Eq(nTheta, s.tan(nAlpha) - nAlpha)\n",
    "\n",
    "# The s.Mod line portion is an in-line \"if odd\" statement for the cos( pi/2 /N ) factor\n",
    "emMOW = s.Eq(mMOW, \n",
    "             Dbase / s.cos(mAlpha) * ( 1 + s.Mod(N,2) * (s.cos(s.pi /2 /N) - 1)) + Dpin)\n",
    "enMOW = s.Eq(nMOW, \n",
    "             Dbase / s.cos(nAlpha) * ( 1 + s.Mod(N,2) * (s.cos(s.pi /2 /N) - 1)) + Dpin)\n",
    "\n",
    "equations = {\n",
    "    Dp: eDp,\n",
    "    tBeta: etBeta,\n",
    "    Dbase: eDbase,\n",
    "    tGamma: etGamma,\n",
    "    Dadd: eDadd,\n",
    "    Dded: eDded,\n",
    "    tDpin: etDpin,\n",
    "    CSW: eCSW,\n",
    "    mCTT: emCTT,\n",
    "    nCTT: enCTT,\n",
    "    mInvo: emInvo,\n",
    "    nInvo: enInvo\n",
    "}\n",
    "\n",
    "display(emInvo, enInvo, emTheta, enTheta, emMOW, enMOW)"
   ]
  },
  {
   "cell_type": "markdown",
   "metadata": {},
   "source": [
    "### Example Calculation"
   ]
  },
  {
   "cell_type": "code",
   "execution_count": 8,
   "metadata": {},
   "outputs": [],
   "source": [
    "###  Definitions\n",
    "\n",
    "# Cut Tolerances\n",
    "cutTol = {1 : 0.012,\n",
    "          2 : 0.01,\n",
    "          3 : 0.008,\n",
    "          4 : 0.006}\n",
    "\n",
    "Gear1 = {N:     16,\n",
    "        Pd:     20,\n",
    "        Beta:    (25 * np.pi/180),\n",
    "        Gamma:  0,\n",
    "        Hf:     1.25,\n",
    "        Dpin:   .0864,\n",
    "        uCTT:   .000,\n",
    "        lCTT:   .000,\n",
    "        CTT:    .07854}\n",
    "\n",
    "\n",
    "Gear2 = {N:     7,\n",
    "        Pd:     6,\n",
    "        Beta:    (28 * np.pi/180),\n",
    "        Gamma:  0,\n",
    "        Hf:     1.25,\n",
    "        Dpin:   .32,\n",
    "        uCTT:   np.average([.2572, .2541]) - .2541,\n",
    "        lCTT:   np.average([.2572, .2541]) - .2541,\n",
    "        CTT:    np.average([.2572, .2541])}\n"
   ]
  },
  {
   "cell_type": "code",
   "execution_count": 9,
   "metadata": {},
   "outputs": [],
   "source": [
    "# Select Gear\n",
    "\n",
    "vars = Gear1"
   ]
  },
  {
   "cell_type": "code",
   "execution_count": 10,
   "metadata": {},
   "outputs": [],
   "source": [
    "for var in equations.keys():\n",
    "    solve(var, vars, equations[var])\n",
    "\n",
    "vars[mAlpha] = newtons(target = vars[mInvo])\n",
    "vars[nAlpha] = newtons(target = vars[nInvo])\n",
    "\n",
    "\n",
    "solve(mMOW, vars, emMOW)\n",
    "solve(nMOW, vars, enMOW)"
   ]
  },
  {
   "cell_type": "code",
   "execution_count": 11,
   "metadata": {},
   "outputs": [
    {
     "data": {
      "text/latex": [
       "$\\displaystyle \\alpha_{max} = 29.51162386459747deg$"
      ],
      "text/plain": [
       "<IPython.core.display.Math object>"
      ]
     },
     "metadata": {},
     "output_type": "display_data"
    },
    {
     "data": {
      "text/latex": [
       "$\\displaystyle \\alpha(\\alpha_{max}) = 0.050965619555002895$"
      ],
      "text/plain": [
       "<IPython.core.display.Math object>"
      ]
     },
     "metadata": {},
     "output_type": "display_data"
    },
    {
     "data": {
      "text/latex": [
       "$\\displaystyle \\alpha_{min} = 29.51162386459747deg$"
      ],
      "text/plain": [
       "<IPython.core.display.Math object>"
      ]
     },
     "metadata": {},
     "output_type": "display_data"
    },
    {
     "data": {
      "text/latex": [
       "$\\displaystyle \\alpha(\\alpha_{min}) = 0.050965619555002895$"
      ],
      "text/plain": [
       "<IPython.core.display.Math object>"
      ]
     },
     "metadata": {},
     "output_type": "display_data"
    },
    {
     "data": {
      "text/latex": [
       "$\\displaystyle MOW_{max} = 0.919541529390043$"
      ],
      "text/plain": [
       "<IPython.core.display.Math object>"
      ]
     },
     "metadata": {},
     "output_type": "display_data"
    },
    {
     "data": {
      "text/latex": [
       "$\\displaystyle MOW_{min} = 0.919541529390043$"
      ],
      "text/plain": [
       "<IPython.core.display.Math object>"
      ]
     },
     "metadata": {},
     "output_type": "display_data"
    }
   ],
   "source": [
    "for key in [mAlpha, nAlpha]:\n",
    "    display(Math(\"%s = %sdeg\"%(key, vars[key]*180/np.pi)))\n",
    "    display(Math(\"\\\\alpha(%s) = %s\"%(key, InvoFuncLambda(vars[key],0))))\n",
    "\n",
    "for n in [mMOW, nMOW]:\n",
    "    display(Math(\"%s = %s\"%(n, vars[n])))"
   ]
  },
  {
   "cell_type": "markdown",
   "metadata": {},
   "source": [
    "## MOW Visualization"
   ]
  },
  {
   "cell_type": "markdown",
   "metadata": {},
   "source": [
    "Delta is the offset of the starting Angle of the involute relative to a half-tooth line. This half-tooth line is itself based off of a center axis of either the original Tooth or original Valley.\n",
    "\n",
    "Additionally, this delta contributes to an adjustment of the involute profile as it runs from the delta-angled point on the base circle to the desired tooth contact point (as defined by the CTT) on the pitch circle -- this adjustment is to be described as an angle of rotation $\\zeta$ of the involute profile about the delta-point on the base circle."
   ]
  },
  {
   "cell_type": "code",
   "execution_count": 12,
   "metadata": {},
   "outputs": [
    {
     "data": {
      "text/latex": [
       "$\\displaystyle \\delta = - \\beta + \\frac{\\sqrt{D_{p}^{2} - D_{base}^{2}}}{D_{base}}$"
      ],
      "text/plain": [
       "Eq(\\delta, -\\beta + sqrt(D_p**2 - D_{base}**2)/D_{base})"
      ]
     },
     "metadata": {},
     "output_type": "display_data"
    }
   ],
   "source": [
    "Delta = s.symbols(\"\\\\delta\")\n",
    "eDelta = s.Eq(Delta, s.sqrt(Dp **2 - Dbase **2) / Dbase - Beta)\n",
    "display(eDelta)\n",
    "delt = float(s.solve(eDelta.subs(vars), Delta)[0])"
   ]
  },
  {
   "cell_type": "markdown",
   "metadata": {},
   "source": [
    "### Contact Point \n",
    "**Solving the contact point of the involute and MOW pin**\n",
    "\n",
    "System of Equations:\n",
    "The x values of the circle and involute must agree at the contact point, and the tangents (derivatives) of the circle and the involute must be the same at the contact point.\n",
    "\n",
    "To solve this, there are three equations relevant:\n",
    "\n",
    "$y_{involute} = y_{startPt} + r_{base} (cos(\\psi) + \\psi sin(\\psi) - 1) = y_{Pin-Center} - r_{pin} sin(\\theta)$\n",
    "\n",
    "$x_{involute} = x_{startPt} + r_{base} (sin(\\psi) - \\psi cos(\\psi)) = r_{pin} cos(\\theta)$\n",
    "\n",
    "$ANGLE(\\psi r_{base} (-sin(\\psi) + cos(\\psi)i)) = ANGLE(r_{pin} e^{\\theta i} * i)$\n",
    "\n",
    "HOWEVER: The involute in this case is adjusted by the angle offset $\\zeta$ found previously. This angle adjustment is built into the involute definition function used within the code, where the x and y are done in complex notation and simply scaled by $e^{\\zeta i}$; a similar thing can be done with the derivative formulas directly:\n",
    "\n",
    "$ANGLE(\\psi r_{base} (-sin(\\psi) + cos(\\psi)i) \\times e^{\\zeta i}) = ANGLE(r_{pin} e^{\\theta i} \\times i)$"
   ]
  },
  {
   "cell_type": "code",
   "execution_count": 13,
   "metadata": {},
   "outputs": [],
   "source": [
    "def baseFunc(theta):\n",
    "    return vars[Dbase] / 2 * np.exp(1j * theta)\n",
    "def pitchFunc(theta):\n",
    "    return vars[Dp] / 2 * np.exp(1j * theta)\n",
    "def pinFunc(theta):\n",
    "    return vars[Dpin] / 2 * np.exp(1j * theta)\n",
    "def addenFunc(theta):\n",
    "    return vars[Dadd] / 2 * np.exp(1j * theta)\n",
    "def invoFunc(psi, offsetAng = 0, zeta = 0, atBaseRadius = False):\n",
    "    # Subtracting 1 from the real values to center it at the origin for the angle transform.\n",
    "    # atBaseRadius moves this back out to the 'true' involute diameter, though this generally isn't \n",
    "    #   particularly useful as the 'startPt' defines the desired involute start point.\n",
    "    return vars[Dbase]/2 * (( ((np.cos(psi) + psi * np.sin(psi) - 1) + 1j * (np.sin(psi) - psi * np.cos(psi))) * np.exp(zeta * 1j) + int(atBaseRadius)) * np.exp(1j * offsetAng) )"
   ]
  },
  {
   "cell_type": "code",
   "execution_count": 14,
   "metadata": {},
   "outputs": [],
   "source": [
    "initialGuess_basic = [1.5, .15] # <<< --- CHECK ME IF PROBLEM\n",
    "\n",
    "startPt = vars[Dbase]/2 * np.exp(1j * ((vars[CSW]/vars[Dp]) - delt)) * 1j\n",
    "\n",
    "# Adjust by zeta at the relative radius of base to pitch\n",
    "    # Desired Trajectory\n",
    "controlPt = vars[Dp] / 2 * np.exp(1j * (np.angle(startPt) + delt))\n",
    "traj_desired = controlPt - startPt\n",
    "    # Real Trajectory\n",
    "def basicIntersect(params):\n",
    "    psi, theta = params\n",
    "    # Involute\n",
    "    f_a = invoFunc(psi, np.pi/2) + startPt\n",
    "    # Pitch Circle\n",
    "    g_b = pitchFunc(theta)\n",
    "    return [f_a.real - g_b.real, f_a.imag - g_b.imag]"
   ]
  },
  {
   "cell_type": "code",
   "execution_count": 15,
   "metadata": {},
   "outputs": [],
   "source": [
    "soln_basic = sci.optimize.fsolve(basicIntersect, initialGuess_basic)\n",
    "traj_basic = invoFunc(soln_basic[0], np.pi/2)\n",
    "    # Solving for the zeta value of offsetting the line over\n",
    "    # Unfortunately not trivial as the zeta angle pertains to the \n",
    "    #   angle of the TANGENTS of the involute curve at psi = 0\n",
    "    #   (which, with the second involute unknown, isn't calculable).\n",
    "    #   Additionally, the new intersect of the involute to the pitch circle\n",
    "    #   occurs at a DIFFERENT psi value, so basically everything is different.\n",
    "def zetaFinding(params):\n",
    "    zeta, psi = params\n",
    "    adjustedInvolute = invoFunc(psi, np.pi/2, zeta) + startPt\n",
    "    return [adjustedInvolute.real - controlPt.real, adjustedInvolute.imag - controlPt.imag]\n",
    "initialGuess_zeta = [np.angle(traj_desired) - np.angle(traj_basic),\n",
    "                     soln_basic[0]]\n",
    "soln_zeta = sci.optimize.fsolve(zetaFinding, initialGuess_zeta)\n",
    "zeta = soln_zeta[0]\n",
    "\n",
    "# Find the intersect with the Addendum to trim the graphing involute later\n",
    "def tipIntersect(params):\n",
    "    psi, theta = params\n",
    "    # Involute\n",
    "    f_a = invoFunc(psi, np.pi/2, zeta = zeta) + startPt\n",
    "    # Addendum Circle\n",
    "    g_b = addenFunc(theta)\n",
    "    return [f_a.real - g_b.real, f_a.imag - g_b.imag]\n",
    "initialGuess_tip = [1.5, .15] # <<< --- CHECK ME IF PROBLEM\n",
    "soln_tip = sci.optimize.fsolve(tipIntersect, initialGuess_tip)\n",
    "psi_tip = soln_tip[0]\n",
    "\n",
    "# Contact point of Involute & Wire\n",
    "def tang_invo(psi):\n",
    "    return psi * (np.cos(psi) * 1j - np.sin(psi)) * np.exp(1j * zeta) * vars[Dbase]/2\n",
    "\n",
    "def tang_circ(theta):\n",
    "    return vars[Dpin]/2 * np.exp(1j * theta) * -1j\n",
    "\n",
    "def contactMOW(params):\n",
    "    psi, theta = params\n",
    "    x_invo = invoFunc(psi, offsetAng = np.pi/2, zeta = zeta).real + startPt.real\n",
    "    x_circ = vars[Dpin]/2 * np.cos(theta)\n",
    "    return [x_invo - x_circ,\n",
    "            np.angle(tang_invo(psi)) - np.angle(tang_circ(theta))]"
   ]
  },
  {
   "cell_type": "code",
   "execution_count": 16,
   "metadata": {},
   "outputs": [],
   "source": [
    "contact_xtol = 1E-7\n",
    "initialGuess_contact = [.5, 3] # <<< --- CHECK ME IF PROBLEM"
   ]
  },
  {
   "cell_type": "code",
   "execution_count": 17,
   "metadata": {},
   "outputs": [],
   "source": [
    "soln_contact = sci.optimize.fsolve(contactMOW, initialGuess_contact, xtol = contact_xtol)\n",
    "\n",
    "contactMOW_check = np.angle(tang_invo(soln_contact[0])) - np.angle(tang_circ(soln_contact[1]))\n",
    "if contactMOW_check < (contact_xtol * 1.1):\n",
    "    psi_contact = soln_contact[0]\n",
    "else:\n",
    "    display(\"Contact Solver Failed to Converge as Desired\")\n",
    "    psi_contact = ()"
   ]
  },
  {
   "cell_type": "code",
   "execution_count": 18,
   "metadata": {},
   "outputs": [],
   "source": [
    "contact = invoFunc(psi_contact, zeta) \n",
    "contactPt = startPt + contact * np.exp(1j * np.pi/2)\n",
    "\n",
    "topPin_vertOffset = np.sin(np.arccos(abs((contactPt).real)/(vars[Dpin]/2))) * vars[Dpin]/2\n",
    "topPin_cntr = ((contactPt).imag + abs(topPin_vertOffset)) * 1j\n",
    "\n",
    "if(np.mod(vars[N],2) == 0): #even\n",
    "    topPt = topPin_cntr + vars[Dpin]/2 * 1j\n",
    "    botPin_cntr = topPin_cntr * np.exp(1j * np.pi)\n",
    "\n",
    "    botPt = -topPt\n",
    "    MOW_angle = np.angle(topPt - botPt)\n",
    "else:\n",
    "    botPin_cntr = topPin_cntr * np.exp(1j * np.pi * (vars[N] + 1) / (vars[N]))\n",
    "    top2bot =  topPin_cntr - botPin_cntr\n",
    "    MOW_angle = np.angle(topPin_cntr - botPin_cntr)\n",
    "    topPt = topPin_cntr + vars[Dpin]/2 * np.exp(1j * MOW_angle)\n",
    "    botPt = botPin_cntr - vars[Dpin]/2 * np.exp(1j * MOW_angle)"
   ]
  },
  {
   "cell_type": "code",
   "execution_count": 19,
   "metadata": {},
   "outputs": [
    {
     "data": {
      "text/latex": [
       "$\\displaystyle MOW_{apprx} = 0.919542$"
      ],
      "text/plain": [
       "<IPython.core.display.Math object>"
      ]
     },
     "metadata": {},
     "output_type": "display_data"
    },
    {
     "data": {
      "text/latex": [
       "$\\displaystyle MOW_{max} = 0.919542$"
      ],
      "text/plain": [
       "<IPython.core.display.Math object>"
      ]
     },
     "metadata": {},
     "output_type": "display_data"
    },
    {
     "data": {
      "text/latex": [
       "$\\displaystyle MOW_{min} = 0.919542$"
      ],
      "text/plain": [
       "<IPython.core.display.Math object>"
      ]
     },
     "metadata": {},
     "output_type": "display_data"
    },
    {
     "data": {
      "text/latex": [
       "$\\displaystyle MOW_{average} = 0.919542$"
      ],
      "text/plain": [
       "<IPython.core.display.Math object>"
      ]
     },
     "metadata": {},
     "output_type": "display_data"
    },
    {
     "data": {
      "text/latex": [
       "$\\displaystyle \\delta = 0.0299753451564166 RAD = 1.7174607669105857 DEG$"
      ],
      "text/plain": [
       "<IPython.core.display.Math object>"
      ]
     },
     "metadata": {},
     "output_type": "display_data"
    },
    {
     "data": {
      "text/latex": [
       "$\\displaystyle 90 - \\delta = 1.54082098163848 RAD = 88.28253923308941 DEG$"
      ],
      "text/plain": [
       "<IPython.core.display.Math object>"
      ]
     },
     "metadata": {},
     "output_type": "display_data"
    },
    {
     "data": {
      "text/latex": [
       "$\\displaystyle \\zeta = 0.06819919569276557 RAD = 3.90752607938225 DEG$"
      ],
      "text/plain": [
       "<IPython.core.display.Math object>"
      ]
     },
     "metadata": {},
     "output_type": "display_data"
    }
   ],
   "source": [
    "display(Math(\"MOW_{apprx} = %s\"%(np.round(np.abs(topPt - botPt), 6))))\n",
    "display(Math(\"MOW_{max} = %s\"%(np.round(vars[mMOW], 6))))\n",
    "display(Math(\"MOW_{min} = %s\"%(np.round(vars[nMOW], 6))))\n",
    "display(Math(\"MOW_{average} = %s\"%(np.round(np.average([vars[mMOW], vars[nMOW]]),6))))\n",
    "\n",
    "display(Math(\"%s = %s RAD = %s DEG\"%(\"\\\\delta\", delt, delt * 180 /np.pi)))\n",
    "display(Math(\"%s = %s RAD = %s DEG\"%(\"90 - \\\\delta\", np.pi/2 - delt, 90 - delt * 180 /np.pi)))\n",
    "\n",
    "display(Math(\"%s = %s RAD = %s DEG\"%(\"\\\\zeta\", zeta, zeta * 180 /np.pi)))"
   ]
  },
  {
   "cell_type": "markdown",
   "metadata": {},
   "source": [
    "### Graphical Outputs"
   ]
  },
  {
   "cell_type": "code",
   "execution_count": 20,
   "metadata": {},
   "outputs": [],
   "source": [
    "theta_circ =  np.linspace(0, 2*np.pi, 100)\n",
    "psi_param = np.linspace(0, psi_tip, 100)\n",
    "\n",
    "base_circ = 0 + baseFunc(theta_circ)\n",
    "adden_circ = 0 + addenFunc(theta_circ)\n",
    "pin_circ_0 =  0 + pinFunc(theta_circ)\n",
    "pitch_circ = 0 + pitchFunc(theta_circ)\n",
    "invo1 = invoFunc(psi_param, offsetAng= np.pi/2)\n",
    "\n",
    "# Zeta is inverted for odd vs even teeth!\n",
    "invo1a = invoFunc(psi_param, offsetAng = np.pi/2, zeta = zeta * (1 if np.mod(vars[N],2) == 0 else -1))\n",
    "pin_circ = topPin_cntr + pin_circ_0\n",
    "pin_circ_bot = botPin_cntr + pin_circ_0"
   ]
  },
  {
   "cell_type": "code",
   "execution_count": 21,
   "metadata": {},
   "outputs": [
    {
     "data": {
      "text/plain": [
       "[<matplotlib.lines.Line2D at 0x78ed30918b90>]"
      ]
     },
     "execution_count": 21,
     "metadata": {},
     "output_type": "execute_result"
    },
    {
     "data": {
      "image/png": "[encoded data removed]",
      "text/plain": [
       "<Figure size 600x600 with 1 Axes>"
      ]
     },
     "metadata": {},
     "output_type": "display_data"
    }
   ],
   "source": [
    "fig, ax = plt.subplots(figsize = (6,6))\n",
    "\n",
    "# Base, Pitch, Addendum Circles\n",
    "ax.plot(base_circ.real, base_circ.imag, color = 'blue', label = \"Base Circle\")\n",
    "ax.plot(adden_circ.real, adden_circ.imag, color = 'grey')\n",
    "ax.plot(pitch_circ.real, pitch_circ.imag, color = 'pink', marker = '.')\n",
    "\n",
    "# Standard Orientation Involute Graphing\n",
    "#invo1_left = startPt.real + (invo1 * 1j).real + (startPt.imag + (invo1 * 1j).imag) * 1j\n",
    "#invo1_right = - startPt.real - (invo1 * 1j).real + (startPt.imag + (invo1 * 1j).imag) * 1j\n",
    "#for n in range(vars[N]):\n",
    "#    left = invo1_left * np.exp(1j * 2*np.pi/vars[N] * n)\n",
    "#    right = invo1_right * np.exp(1j * 2*np.pi/vars[N] * n)\n",
    "#    ax.plot(left.real, left.imag, 'purple', alpha = .3)\n",
    "#    ax.plot(right.real, right.imag, 'g', alpha = .3)\n",
    "    \n",
    "# Adjusted Orientation Involute Graphing\n",
    "invoPts = {}\n",
    "for n in range(vars[N]):\n",
    "    if(np.mod(vars[N],2) == 0): #even\n",
    "        invo1_left = startPt.real + (invo1a).real + (startPt.imag + (invo1a).imag) * 1j\n",
    "        invo1_right = - startPt.real - (invo1a).real + (startPt.imag + (invo1a).imag) * 1j\n",
    "        left = invo1_left * np.exp(1j * 2*np.pi/vars[N] * n)\n",
    "        right = invo1_right * np.exp(1j * 2*np.pi/vars[N] * n)\n",
    "    else: # odd\n",
    "        invo1_left = startPt.real - (invo1a).real + (startPt.imag + (invo1a).imag) * 1j\n",
    "        invo1_right = - startPt.real + (invo1a).real + (startPt.imag + (invo1a).imag) * 1j\n",
    "\n",
    "        #invo1_left = startPt.real - (invo1a * 1j).real + (startPt.imag + (invo1a * 1j).imag) * 1j\n",
    "        #invo1_right = - startPt.real + (invo1a * 1j).real + (startPt.imag + (invo1a * 1j).imag) * 1j\n",
    "        left = invo1_left * np.exp(1j * 2*np.pi/vars[N] * n)\n",
    "        right = invo1_right * np.exp(1j * 2*np.pi/vars[N] * n)\n",
    "        #right = invo1_left * np.exp(1j * 2*np.pi/vars[N] * n) #* np.exp(1j * np.pi/vars[N])\n",
    "        #left = invo1_right * np.exp(1j * 2*np.pi/vars[N] * n) #* np.exp(1j * np.pi/vars[N])\n",
    "        \n",
    "    ax.plot(left.real, left.imag, 'purple')\n",
    "    ax.plot(right.real, right.imag, 'g')\n",
    "    invoPts[str(n) + \"L\"] = [left.real, left.imag]\n",
    "    invoPts[str(n) + \"R\"] = [right.real, right.imag]\n",
    "\n",
    "\n",
    "ax.plot(0, topPin_cntr.imag, marker = 'o', color = 'black')\n",
    "ax.plot(botPin_cntr.real, botPin_cntr.imag, marker = 'o', color = 'black')\n",
    "ax.plot(pin_circ.real, pin_circ.imag, color = 'orange')\n",
    "ax.plot(pin_circ_bot.real, pin_circ_bot.imag, color = 'orange' )\n",
    "mowPts = {}\n",
    "mowPts[\"Top\"] = [pin_circ.real, pin_circ.imag]\n",
    "mowPts[\"Bot\"] = [pin_circ_bot.real, pin_circ_bot.imag]\n",
    "\n",
    "# Caliper Line\n",
    "ax.plot(np.linspace(topPt.real, topPt.real - vars[mMOW] * np.cos(MOW_angle), 100), np.linspace(topPt.imag, topPt.imag - vars[mMOW] * np.sin(MOW_angle), 100), marker = \".\", color = 'grey', alpha = .3)\n",
    "# Top and Bottom Points\n",
    "ax.plot(topPt.real, topPt.imag, 'r_')\n",
    "ax.annotate(str(np.round(np.abs(topPt),4)), xy = (vars[Dbase]/10, topPt.imag), color = 'red')\n",
    "ax.plot(botPt.real, botPt.imag, 'r_')\n",
    "ax.annotate(str(np.round(np.abs(botPt),4)), xy = (vars[Dbase]/10, botPt.imag * 1.05), color = 'red')\n",
    "\n",
    "ax.plot(startPt.real, startPt.imag, marker = '+', color = 'cyan')\n",
    "ax.plot(controlPt.real, controlPt.imag, marker = '+', color= 'red')\n",
    "ax.plot(contactPt.real, contactPt.imag, marker = 'o', color = 'orange')"
   ]
  },
  {
   "cell_type": "code",
   "execution_count": 22,
   "metadata": {},
   "outputs": [
    {
     "data": {
      "text/plain": [
       "np.complex128(-0.037595049597843495+0.3952904393747848j)"
      ]
     },
     "metadata": {},
     "output_type": "display_data"
    },
    {
     "data": {
      "image/png": "[encoded data removed]",
      "text/plain": [
       "<Figure size 600x600 with 1 Axes>"
      ]
     },
     "metadata": {},
     "output_type": "display_data"
    }
   ],
   "source": [
    "# Zoom in on Contact\n",
    "fig1, ax1 = plt.subplots(figsize = (6,6))\n",
    "\n",
    "left = invo1_left * np.exp(1j * 2*np.pi/vars[N] * 0)\n",
    "right = invo1_right * np.exp(1j * 2*np.pi/vars[N] * vars[N])\n",
    "ax1.plot(left.real, left.imag, 'purple')\n",
    "ax1.plot(right.real, right.imag, 'g')\n",
    "ax1.plot(contactPt.real, contactPt.imag, marker = 'o', color = 'red')\n",
    "\n",
    "contactTest = startPt.real + (invoFunc(psi_contact, zeta = zeta) * 1j).real + (startPt.imag + (invoFunc(psi_contact, zeta = zeta) * 1j).imag) * 1j\n",
    "ax1.plot(-contactTest.real, contactTest.imag, 'go')\n",
    "\n",
    "ax1.plot(pitchFunc(np.linspace(np.pi*2/5, np.pi*3/5, 100)).real, pitchFunc(np.linspace(np.pi*2/5, np.pi*3/5, 100)).imag, color = 'pink')\n",
    "\n",
    "ax1.plot(pin_circ.real, pin_circ.imag, color = 'orange')\n",
    "\n",
    "\n",
    "# Scaling to 1x1 \n",
    "if (np.average(ax1.get_xlim()) < np.average(ax1.get_ylim())):\n",
    "    ax1.set_ylim( np.average(ax1.get_ylim()) - (ax1.get_xlim()[1] - ax1.get_xlim()[0])/2,\n",
    "                  np.average(ax1.get_ylim()) + (ax1.get_xlim()[1] - ax1.get_xlim()[0])/2 )\n",
    "else:\n",
    "    ax1.set_xlim( np.average(ax1.get_xlim()) - (ax1.get_ylim()[1] - ax1.get_ylim()[0])/2,\n",
    "                  np.average(ax1.get_xlim()) + (ax1.get_ylim()[1] - ax1.get_ylim()[0])/2 )\n",
    "    \n",
    "display(contactPt)"
   ]
  },
  {
   "cell_type": "markdown",
   "metadata": {},
   "source": [
    "### Saving Curves to XYZ file "
   ]
  },
  {
   "cell_type": "code",
   "execution_count": 23,
   "metadata": {},
   "outputs": [],
   "source": [
    "# Saving all Plotted Geom\n",
    "saveMe = False\n",
    "\n",
    "if saveMe:\n",
    "    x_data = 0\n",
    "    y_data = 0\n",
    "    ax.get_children()\n",
    "    i = 0\n",
    "    for geom in ax.get_children():\n",
    "        i = i +1\n",
    "        if isinstance(geom, plt.Line2D):\n",
    "            x_data = geom.get_xdata()\n",
    "            y_data = geom.get_ydata()\n",
    "            line_data = {'x': x_data, 'y': y_data, 'z': 0}\n",
    "            df = pd.DataFrame(line_data)\n",
    "            #df = df.applymap(lambda x: 0 if x < .000000001 else x)\n",
    "            df.to_csv('./plottingDataGear%s.sldcrv'%(i), index=False, sep=\"\\t\", header = False) # CHECK ME, if back/foreslash for windows     "
   ]
  },
  {
   "cell_type": "markdown",
   "metadata": {},
   "source": [
    "### MOW - More Examples"
   ]
  },
  {
   "cell_type": "code",
   "execution_count": 24,
   "metadata": {},
   "outputs": [],
   "source": [
    "vars = Gear2\n",
    "\n",
    "for var in equations.keys():\n",
    "    solve(var, vars, equations[var])\n",
    "\n",
    "vars[mAlpha] = newtons(target = vars[mInvo])\n",
    "vars[nAlpha] = newtons(target = vars[nInvo])\n",
    "\n",
    "solve(mMOW, vars, emMOW)\n",
    "solve(nMOW, vars, enMOW)\n",
    "\n",
    "delt = float(s.solve(eDelta.subs(vars), Delta)[0])"
   ]
  },
  {
   "cell_type": "code",
   "execution_count": 25,
   "metadata": {},
   "outputs": [],
   "source": [
    "initialGuess_basic = [1.5, .15] # <<< --- CHECK ME IF PROBLEM\n",
    "\n",
    "startPt = vars[Dbase]/2 * np.exp(1j * ((vars[CSW]/vars[Dp]) - delt)) * 1j\n",
    "\n",
    "# Adjust by zeta at the relative radius of base to pitch\n",
    "    # Desired Trajectory\n",
    "controlPt = vars[Dp] / 2 * np.exp(1j * (np.angle(startPt) + delt))\n",
    "traj_desired = controlPt - startPt\n",
    "    # Real Trajectory\n",
    "\n",
    "soln_basic = sci.optimize.fsolve(basicIntersect, initialGuess_basic)\n",
    "traj_basic = invoFunc(soln_basic[0], np.pi/2)\n",
    "    # Solving for the zeta value of offsetting the line over\n",
    "    # Unfortunately not trivial as the zeta angle pertains to the \n",
    "    #   angle of the TANGENTS of the involute curve at psi = 0\n",
    "    #   (which, with the second involute unknown, isn't calculable).\n",
    "    #   Additionally, the new intersect of the involute to the pitch circle\n",
    "    #   occurs at a DIFFERENT psi value, so basically everything is different.\n",
    "\n",
    "initialGuess_zeta = [np.angle(traj_desired) - np.angle(traj_basic),\n",
    "                     soln_basic[0]]\n",
    "soln_zeta = sci.optimize.fsolve(zetaFinding, initialGuess_zeta)\n",
    "zeta = soln_zeta[0]\n",
    "\n",
    "# Find the intersect with the Addendum to trim the graphing involute later\n",
    "\n",
    "initialGuess_tip = [1.5, .15] # <<< --- CHECK ME IF PROBLEM\n",
    "soln_tip = sci.optimize.fsolve(tipIntersect, initialGuess_tip)\n",
    "psi_tip = soln_tip[0]\n",
    "\n",
    "# Contact point of Involute & Wire\n",
    "contact_xtol = 1E-7\n",
    "initialGuess_contact = [.5, 3] # <<< --- CHECK ME IF PROBLEM\n",
    "soln_contact = sci.optimize.fsolve(contactMOW, initialGuess_contact, xtol = contact_xtol)\n",
    "\n",
    "contactMOW_check = np.angle(tang_invo(soln_contact[0])) - np.angle(tang_circ(soln_contact[1]))\n",
    "if contactMOW_check < (contact_xtol * 1.1):\n",
    "    psi_contact = soln_contact[0]\n",
    "else:\n",
    "    display(\"Contact Solver Failed to Converge as Desired\")\n",
    "    psi_contact = ()\n",
    "contact = invoFunc(psi_contact, zeta) \n",
    "contactPt = startPt + contact * np.exp(1j * np.pi/2)\n",
    "\n",
    "topPin_vertOffset = np.sin(np.arccos(abs((contactPt).real)/(vars[Dpin]/2))) * vars[Dpin]/2\n",
    "topPin_cntr = ((contactPt).imag + abs(topPin_vertOffset)) * 1j\n",
    "\n",
    "if(np.mod(vars[N],2) == 0): #even\n",
    "    topPt = topPin_cntr + vars[Dpin]/2 * 1j\n",
    "    botPin_cntr = topPin_cntr * np.exp(1j * np.pi)\n",
    "\n",
    "    botPt = -topPt\n",
    "    MOW_angle = np.angle(topPt - botPt)\n",
    "else:\n",
    "    botPin_cntr = topPin_cntr * np.exp(1j * np.pi * (vars[N] + 1) / (vars[N]))\n",
    "    top2bot =  topPin_cntr - botPin_cntr\n",
    "    MOW_angle = np.angle(topPin_cntr - botPin_cntr)\n",
    "    topPt = topPin_cntr + vars[Dpin]/2 * np.exp(1j * MOW_angle)\n",
    "    botPt = botPin_cntr - vars[Dpin]/2 * np.exp(1j * MOW_angle)"
   ]
  },
  {
   "cell_type": "code",
   "execution_count": 26,
   "metadata": {},
   "outputs": [],
   "source": [
    "theta_circ =  np.linspace(0, 2*np.pi, 100)\n",
    "psi_param = np.linspace(0, psi_tip, 100)\n",
    "\n",
    "base_circ = 0 + baseFunc(theta_circ)\n",
    "adden_circ = 0 + addenFunc(theta_circ)\n",
    "pin_circ_0 =  0 + pinFunc(theta_circ)\n",
    "pitch_circ = 0 + pitchFunc(theta_circ)\n",
    "invo1 = invoFunc(psi_param, offsetAng= np.pi/2)\n",
    "\n",
    "# Zeta is inverted for odd vs even teeth!\n",
    "invo1a = invoFunc(psi_param, offsetAng = np.pi/2, zeta = zeta * (1 if np.mod(vars[N],2) == 0 else -1))\n",
    "pin_circ = topPin_cntr + pin_circ_0\n",
    "pin_circ_bot = botPin_cntr + pin_circ_0"
   ]
  },
  {
   "cell_type": "code",
   "execution_count": 27,
   "metadata": {},
   "outputs": [
    {
     "data": {
      "text/plain": [
       "[<matplotlib.lines.Line2D at 0x78ed27d48410>]"
      ]
     },
     "execution_count": 27,
     "metadata": {},
     "output_type": "execute_result"
    },
    {
     "data": {
      "image/png": "[encoded data removed]",
      "text/plain": [
       "<Figure size 600x600 with 1 Axes>"
      ]
     },
     "metadata": {},
     "output_type": "display_data"
    }
   ],
   "source": [
    "fig, ax = plt.subplots(figsize = (6,6))\n",
    "\n",
    "# Base, Pitch, Addendum Circles\n",
    "ax.plot(base_circ.real, base_circ.imag, color = 'blue', label = \"Base Circle\")\n",
    "ax.plot(adden_circ.real, adden_circ.imag, color = 'grey')\n",
    "ax.plot(pitch_circ.real, pitch_circ.imag, color = 'pink', marker = '.')\n",
    "\n",
    "# Standard Orientation Involute Graphing\n",
    "#invo1_left = startPt.real + (invo1 * 1j).real + (startPt.imag + (invo1 * 1j).imag) * 1j\n",
    "#invo1_right = - startPt.real - (invo1 * 1j).real + (startPt.imag + (invo1 * 1j).imag) * 1j\n",
    "#for n in range(vars[N]):\n",
    "#    left = invo1_left * np.exp(1j * 2*np.pi/vars[N] * n)\n",
    "#    right = invo1_right * np.exp(1j * 2*np.pi/vars[N] * n)\n",
    "#    ax.plot(left.real, left.imag, 'purple', alpha = .3)\n",
    "#    ax.plot(right.real, right.imag, 'g', alpha = .3)\n",
    "    \n",
    "# Adjusted Orientation Involute Graphing\n",
    "invoPts = {}\n",
    "for n in range(vars[N]):\n",
    "    if(np.mod(vars[N],2) == 0): #even\n",
    "        invo1_left = startPt.real + (invo1a).real + (startPt.imag + (invo1a).imag) * 1j\n",
    "        invo1_right = - startPt.real - (invo1a).real + (startPt.imag + (invo1a).imag) * 1j\n",
    "        left = invo1_left * np.exp(1j * 2*np.pi/vars[N] * n)\n",
    "        right = invo1_right * np.exp(1j * 2*np.pi/vars[N] * n)\n",
    "    else: # odd\n",
    "        invo1_left = startPt.real - (invo1a).real + (startPt.imag + (invo1a).imag) * 1j\n",
    "        invo1_right = - startPt.real + (invo1a).real + (startPt.imag + (invo1a).imag) * 1j\n",
    "\n",
    "        #invo1_left = startPt.real - (invo1a * 1j).real + (startPt.imag + (invo1a * 1j).imag) * 1j\n",
    "        #invo1_right = - startPt.real + (invo1a * 1j).real + (startPt.imag + (invo1a * 1j).imag) * 1j\n",
    "        left = invo1_left * np.exp(1j * 2*np.pi/vars[N] * n)\n",
    "        right = invo1_right * np.exp(1j * 2*np.pi/vars[N] * n)\n",
    "        #right = invo1_left * np.exp(1j * 2*np.pi/vars[N] * n) #* np.exp(1j * np.pi/vars[N])\n",
    "        #left = invo1_right * np.exp(1j * 2*np.pi/vars[N] * n) #* np.exp(1j * np.pi/vars[N])\n",
    "        \n",
    "    ax.plot(left.real, left.imag, 'purple')\n",
    "    ax.plot(right.real, right.imag, 'g')\n",
    "    invoPts[str(n) + \"L\"] = [left.real, left.imag]\n",
    "    invoPts[str(n) + \"R\"] = [right.real, right.imag]\n",
    "\n",
    "\n",
    "ax.plot(0, topPin_cntr.imag, marker = 'o', color = 'black')\n",
    "ax.plot(botPin_cntr.real, botPin_cntr.imag, marker = 'o', color = 'black')\n",
    "ax.plot(pin_circ.real, pin_circ.imag, color = 'orange')\n",
    "ax.plot(pin_circ_bot.real, pin_circ_bot.imag, color = 'orange' )\n",
    "mowPts = {}\n",
    "mowPts[\"Top\"] = [pin_circ.real, pin_circ.imag]\n",
    "mowPts[\"Bot\"] = [pin_circ_bot.real, pin_circ_bot.imag]\n",
    "\n",
    "# Caliper Line\n",
    "ax.plot(np.linspace(topPt.real, topPt.real - vars[mMOW] * np.cos(MOW_angle), 100), np.linspace(topPt.imag, topPt.imag - vars[mMOW] * np.sin(MOW_angle), 100), marker = \".\", color = 'grey', alpha = .3)\n",
    "# Top and Bottom Points\n",
    "ax.plot(topPt.real, topPt.imag, 'r_')\n",
    "ax.annotate(str(np.round(np.abs(topPt),4)), xy = (vars[Dbase]/10, topPt.imag), color = 'red')\n",
    "ax.plot(botPt.real, botPt.imag, 'r_')\n",
    "ax.annotate(str(np.round(np.abs(botPt),4)), xy = (vars[Dbase]/10, botPt.imag * 1.05), color = 'red')\n",
    "\n",
    "ax.plot(startPt.real, startPt.imag, marker = '+', color = 'cyan')\n",
    "ax.plot(controlPt.real, controlPt.imag, marker = '+', color= 'red')\n",
    "ax.plot(contactPt.real, contactPt.imag, marker = 'o', color = 'orange')"
   ]
  },
  {
   "cell_type": "markdown",
   "metadata": {},
   "source": [
    "## MBW Max/Min"
   ]
  },
  {
   "cell_type": "markdown",
   "metadata": {},
   "source": [
    "Following the same process as MOW, but with formulas modified for internal profile:\n",
    "\n",
    "$\\Theta_{m|n} = \\frac{CSW_{m|n}}{D_P} + (tan(\\beta) - \\beta) - \\frac{D_{pin}}{D_{base}}$\n",
    "\n",
    "$\\Theta_{m|n} = tan(\\alpha_{m|n}) - \\alpha_{m|n}$\n",
    "\n",
    "* For Even Teeth:\n",
    "\n",
    "$MBW_{m|n} = \\frac{D_{base}}{cos(\\alpha_{m|n})} - D_{pin}$\n",
    "\n",
    "* For Odd Teeth:\n",
    "\n",
    "$MBW_{m|n}= \\frac{D_{base}}{cos(\\alpha_{m|n})} \\times cos(\\frac{\\pi}{2 N}) - D_{pin}$"
   ]
  },
  {
   "cell_type": "markdown",
   "metadata": {},
   "source": [
    "_...(graphical tbd)..._"
   ]
  }
 ],
 "metadata": {
  "kernelspec": {
   "display_name": "gear",
   "language": "python",
   "name": "python3"
  },
  "language_info": {
   "codemirror_mode": {
    "name": "ipython",
    "version": 3
   },
   "file_extension": ".py",
   "mimetype": "text/x-python",
   "name": "python",
   "nbconvert_exporter": "python",
   "pygments_lexer": "ipython3",
   "version": "3.13.0"
  }
 },
 "nbformat": 4,
 "nbformat_minor": 2
}
