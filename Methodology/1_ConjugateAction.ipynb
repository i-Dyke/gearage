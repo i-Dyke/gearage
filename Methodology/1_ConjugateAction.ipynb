{
 "cells": [
  {
   "cell_type": "code",
   "execution_count": 75,
   "metadata": {},
   "outputs": [],
   "source": [
    "import os\n",
    "import numpy as np\n",
    "import sympy as s\n",
    "import matplotlib.pyplot as plt\n",
    "import matplotlib.animation as anim\n",
    "import pandas as pd\n",
    "import scipy as sci\n",
    "from IPython.display import Markdown, display, Math, HTML\n",
    "\n",
    "# Inits\n",
    "reload_Gifs = True\n",
    "\n",
    "# Some tools:\n",
    "\n",
    "def mirrorZ(complexCurve, mirrorAng, centerPt:complex = 0):\n",
    "    if centerPt != 0:\n",
    "        complexCurve = [cCurve - centerPt for cCurve in complexCurve]\n",
    "    return [z * np.exp(-1j * (np.angle(z) - mirrorAng) * 2) + centerPt for z in complexCurve]\n",
    "\n",
    "def rotateZ(complexCurve, ang, centerPt:complex = 0):\n",
    "    return [(z - centerPt) * np.exp(1j*ang) + centerPt for z in complexCurve]"
   ]
  },
  {
   "cell_type": "markdown",
   "metadata": {},
   "source": [
    "## Resources:\n",
    "\n",
    "1) _Analytical Mechanics of Gears_, Earle Buckingham, Dover Publications. SBN 486-61073-X, Library of Congress 63-21681."
   ]
  },
  {
   "cell_type": "markdown",
   "metadata": {},
   "source": [
    "# Chapter 1: Conjugate Action Profiles"
   ]
  },
  {
   "cell_type": "markdown",
   "metadata": {},
   "source": [
    "The basic principle behind all gears is a conjugate action between two profiles. That is, of teeth going in and out of mesh to transfer force and motion. \n",
    "\n",
    "The foundation of the analysis of curves that produce a desired conjugate action is to define a **Path of Contact** between the two curves; this will define the various points where the two curves touch during the meshing process. \n",
    "\n",
    "One can technically define the Contact Path directly, but more generally, it is the desire to generate the mating gear to a known existing profile. One method of doing this is to define a Cartesian equation $x = f(y)$ for the driving tooth profile. Generally this is provided in terms of the rack-form of the gear tooth. It is simpler to work with than the gear form (where the rack is stretched over a circle). \n",
    "\n",
    "For the tooth curves to interact without unwanted interference, then the tangent of each point must be continuous and equal to the equivalent tangent on the mating curve. This can be expressed equally that the **pressure angle** -- the angle defining the line perpendicular $^1$ to the tooth curves, as measured from the rack length or the tangent of the two pitch circles. This perpendicular line is the **'line of action'**.\n",
    "\n",
    "Mathematically, the pressure angle $\\phi$ is defined as $tan(\\phi) = \\frac{dx}{dy}$.\n",
    "\n",
    "Generally speaking, you have a roughly known range of heights (rack) or range of radiuses (gear) over which you expect the operation; for this analysis, the relative height (that is, distance from the mean) is normalized to $y = \\pm 1$. The mean height of the curves is described as the **pitch line** (for a rack) or **pitch circle** (for a gear), and the origin ($x = 0$, $y=0$) is known as the **pitch point**. The pitch point is, physically, the 'symmetry' point of the two gears, where the contact of the tooth curves is coincident with a line running between each gears' centerpoint.\n",
    "\n",
    "Looked at a different way (one might say in a _constructive_ mindset, rather than _applications_), the pitch circle/line is the fundamental starting point of the teeth geometry. It is the point in which the interaction of the teeth begins and moves in and out of. This is in the sense that the contact point between the teeth will climb one tooth (as it descends the other), then end as the teeth come out of engagement and another tooth pair goes into engagement, starting at the opposite end, climbing again until it reaches the pitch point, restarting the cycle; hence the symmetry described earlier. \n",
    "\n",
    "For most gear teeth curves, the pitch point is a unique point, and describes the only functional line/radius that will allow for properly meshing teeth $ ^2$. This is important as the pitch radius also defines the effective rotational radius of the gear -- the gear ratio. As example, a gear of pitch radius 2 will rotate half as quickly as the mating gear of radius 1. \n",
    "\n",
    "$ ^1$ Or in 3-D, normal.\n",
    "\n",
    "$ ^2$ The important *involute profile* in general is not limited by this, in that the pitch line/radius can be changed between two different gears while still allowing for proper meshing. That said, the pitch point is still fundamental to the design of any particular pairs of mating involute gear teeth being used."
   ]
  },
  {
   "cell_type": "markdown",
   "metadata": {},
   "source": [
    "## Implementation: Rack Tooth Defined\n",
    "Using a basis of a defined rack tooth (likely to be the cutter geometry) to develop the contact path and the associated gear teeth.\n",
    "\n",
    "_A preface: the below gifs have the rotational/translational speeds defined by the transmission ratio of the diameters, for simplicity. However, for profiles other than cycloidal/involute, this is not physically accurate; the engagement point moves at different rates on either side of the gearset, making the conjugate action velocity nonlinear._"
   ]
  },
  {
   "cell_type": "markdown",
   "metadata": {},
   "source": [
    "The idea of generating a mating tooth form is actually relatively simple:\n",
    "\n",
    "* Take your original tooth form\n",
    "* Determine the path of contact\n",
    "* Translate that over to the mating gear. \n",
    "\n",
    "The path of contact itself is found as the associated change in height of along the original tooth curve as it moves left to right (rack) or rotates CW/CCW (gear). "
   ]
  },
  {
   "cell_type": "markdown",
   "metadata": {},
   "source": [
    "Beginning with a simple arc profile:"
   ]
  },
  {
   "cell_type": "code",
   "execution_count": 76,
   "metadata": {},
   "outputs": [
    {
     "data": {
      "text/plain": [
       "<matplotlib.legend.Legend at 0x28e449d0410>"
      ]
     },
     "execution_count": 76,
     "metadata": {},
     "output_type": "execute_result"
    },
    {
     "data": {
      "image/png": "[encoded data removed]",
      "text/plain": [
       "<Figure size 640x480 with 1 Axes>"
      ]
     },
     "metadata": {},
     "output_type": "display_data"
    }
   ],
   "source": [
    "x, y, xp, phi = s.symbols(\"x y x_p \\\\phi \")\n",
    "\n",
    "Eqs = {}\n",
    "Eqs[\"curveFunc\"] = (3*np.cos(np.pi/6) - x)**2 + (y + 3*np.sin(np.pi/6))**2 - 3**2 # = 0\n",
    "Eqs[x] = s.solve(Eqs[\"curveFunc\"], x)[0]\n",
    "plt.plot([Eqs[x].subs({y:ypt}) for ypt in np.linspace(-1,1,10)], np.linspace(-1,1,10), label = \"Rack Tooth Profile\")\n",
    "plt.legend()"
   ]
  },
  {
   "cell_type": "markdown",
   "metadata": {},
   "source": [
    "This can then be translated into a set of points on the contact path by that understanding of the change in pressure angle across the curve: \n",
    "\n",
    "$tan(\\phi) = \\frac{dx}{dy}$\n",
    "\n",
    "Accordingly, for some arbitrarily small incremental change of x and y (moving from the original point to a new point on the contact path subscript *p*), the approximation holds\n",
    "\n",
    "$\\frac{x_p}{y_p} = \\frac{dx}{dy}$\n",
    "\n",
    "Rewriting this, making it negative (for sake of making it 'left handed', by preference), and noting that for a rack profile the y will be the same across any translations:\n",
    "\n",
    "$x_p = \\frac{-y}{tan(\\phi)} = \\frac{-y}{ dx / dy }$"
   ]
  },
  {
   "cell_type": "code",
   "execution_count": 77,
   "metadata": {},
   "outputs": [
    {
     "data": {
      "text/latex": [
       "$\\displaystyle 2.59807621135331 - 2.59807621135331 \\sqrt{- 0.148148148148148 y^{2} - 0.444444444444444 y + 1}$"
      ],
      "text/plain": [
       "2.59807621135331 - 2.59807621135331*sqrt(-0.148148148148148*y**2 - 0.444444444444444*y + 1)"
      ]
     },
     "metadata": {},
     "output_type": "display_data"
    },
    {
     "data": {
      "text/latex": [
       "$\\displaystyle - \\frac{2.59807621135331 \\left(- 0.148148148148148 y - 0.222222222222222\\right)}{\\sqrt{- 0.148148148148148 y^{2} - 0.444444444444444 y + 1}}$"
      ],
      "text/plain": [
       "-2.59807621135331*(-0.148148148148148*y - 0.222222222222222)/sqrt(-0.148148148148148*y**2 - 0.444444444444444*y + 1)"
      ]
     },
     "metadata": {},
     "output_type": "display_data"
    }
   ],
   "source": [
    "Eqs[\"tphi\"] = s.diff(Eqs[x], y)\n",
    "display(Eqs[x], Eqs['tphi'])"
   ]
  },
  {
   "cell_type": "code",
   "execution_count": 78,
   "metadata": {},
   "outputs": [
    {
     "data": {
      "text/html": [
       "<img src=\"./assets/RackSliding.gif\">"
      ],
      "text/plain": [
       "<IPython.core.display.HTML object>"
      ]
     },
     "execution_count": 78,
     "metadata": {},
     "output_type": "execute_result"
    }
   ],
   "source": [
    "Eqs[xp] = -1 * y / Eqs['tphi']\n",
    "\n",
    "ys = np.linspace(-1,1,20)\n",
    "contact = [Eqs[xp].subs({y:ypt}) for ypt in ys]\n",
    "curve = [complex(Eqs[x].subs({y:ypt}), ypt) for ypt in ys]\n",
    "translation = [curve[i].real - contact[i] for i in range(len(ys))]\n",
    "\n",
    "fig, ax = plt.subplots()\n",
    "ContactPath = ax.plot(contact, ys, 'orange', label=\"Path of Contact\")[0]\n",
    "ContactPathPt = ax.plot(contact[0], ys[0], 'ro')[0]\n",
    "Tooth = ax.plot(np.real(curve) - translation[0], np.imag(curve), 'black', label = \"Rack Tooth\")[0]\n",
    "\n",
    "frames = len(ys)\n",
    "def update(frame):\n",
    "    ContactPathPt.set_xdata([contact[frame]])\n",
    "    ContactPathPt.set_ydata([ys[frame]])\n",
    "    Tooth.set_xdata(np.real(curve) - translation[frame])\n",
    "    Tooth.set_ydata(np.imag(curve))\n",
    "    return (ContactPath, ContactPathPt, Tooth)\n",
    "\n",
    "ax.set_xlim(-1.1 * float(max(contact)), 1.1 * float(max(contact)))\n",
    "ax.set_aspect('equal')\n",
    "ani = anim.FuncAnimation(fig = fig, func = update, frames = frames, interval = 5)\n",
    "ax.legend(bbox_to_anchor=(1, 1),\n",
    "          bbox_transform=fig.transFigure)\n",
    "if reload_Gifs:\n",
    "    ani.save(\"assets/RackSliding.gif\", writer = 'pillow')\n",
    "plt.close()\n",
    "HTML('<img src=\"./assets/RackSliding.gif\">')"
   ]
  },
  {
   "cell_type": "markdown",
   "metadata": {},
   "source": [
    "### Finding the Mating Profile"
   ]
  },
  {
   "cell_type": "markdown",
   "metadata": {},
   "source": [
    "To do the next steps requires some geometry.\n",
    "\n",
    "For this, the values $r$, $\\epsilon$, and $\\theta$ are defined, all relative to the circular center of the desired mating gear. $r$ and $\\theta$ define the polar coordinate point on the __mating tooth curve__ for any input point on the cartesian __original tooth curve__ $(x, y)$, as located when both gears are at the original pitch point orientation. \n",
    "To find this curve requires evaluating the contact point of the two curves at some amount of translation of the rack form -- that $x_p$ defined previously -- and then rotating it back to the desired pitch point orientation. The angular offset from the contact point interaction (the 'current rotation') back to the pitch point orientation (the 'original rotation') is $\\epsilon$.\n",
    "\n",
    "The formulas for each quantity are \n",
    "\n",
    "$r = \\sqrt{x_p^2 + (R - y)^2}$ for Pitch Radius of the Mating Gear $R$\n",
    "\n",
    "This is simply the result of the pythagorean triangle formed by the pitch radius line and the offsets to the $(x,y)$ from that motion to $x_p$.\n",
    "\n",
    "$\\epsilon = \\frac{x_p - x}{R}$\n",
    "\n",
    "Epsilon is a bit more complicated; it is finding the arc going from the original tooth curve in the origin orientation $x$ to the new $x$ value at the translated point $x_p$, and turning it back into a radian angle measure by dividing by $R$. The subtraction is due to that left-handedness of $x_p$ as it has been defined -- since $x_p$ is negative, it is really just summing their absolute values. This epsilon itself will need to be made negative for plotting (to make it a clockwise rotation). \n",
    "\n",
    "Notice that the $x$ and $x_p$ are originally defined as linear measure, not arcs -- strange then that they become radians when divided by the radius? This is the case because of our use of a rack-form -- they could be stretched over a circle to make a gear, and accordingly $x$ and $x_p$ would then become arcs. Since the motion of the gear is directly tied into the motion of the rack by conjugate action, these two values are effectively being wrapped about the mating gear during the meshing, *making* them arc measures.\n",
    "\n",
    "$\\theta = arctan( \\frac{x_p}{R - y}) - \\epsilon = arctan( \\frac{x_p}{R - y}) - \\frac{x_p - x}{R}$\n",
    "\n",
    "This angle $\\frac{x_p}{R - y}$ can be interpretted the same as $\\epsilon$ is. It is the angle offset of contact point coordinate $(x_p, y)$ -- and since $\\epsilon$ is the offset from this point to the desired original orientation, subtracting out $\\epsilon$ will give the angle to this desired oriented point."
   ]
  },
  {
   "cell_type": "code",
   "execution_count": 79,
   "metadata": {},
   "outputs": [
    {
     "data": {
      "text/latex": [
       "$\\displaystyle r = \\sqrt{x_{p}^{2} + \\left(R - y\\right)^{2}}$"
      ],
      "text/plain": [
       "Eq(r, sqrt(x_p**2 + (R - y)**2))"
      ]
     },
     "metadata": {},
     "output_type": "display_data"
    },
    {
     "data": {
      "text/latex": [
       "$\\displaystyle \\epsilon = \\frac{- x + x_{p}}{R}$"
      ],
      "text/plain": [
       "Eq(\\epsilon, (-x + x_p)/R)"
      ]
     },
     "metadata": {},
     "output_type": "display_data"
    },
    {
     "data": {
      "text/latex": [
       "$\\displaystyle \\theta = \\operatorname{atan}{\\left(\\frac{x_{p}}{R - y} \\right)} - \\frac{- x + x_{p}}{R}$"
      ],
      "text/plain": [
       "Eq(\\theta, atan(x_p/(R - y)) - (-x + x_p)/R)"
      ]
     },
     "metadata": {},
     "output_type": "display_data"
    }
   ],
   "source": [
    "eps, theta, r, R = s.symbols(\"\\\\epsilon \\\\theta r R\")\n",
    "Eqs[r] = s.sqrt( (R - y)**2 + xp**2 )\n",
    "Eqs[eps] = (xp - x)/R\n",
    "Eqs[theta] = s.atan(xp / (R - y)) - Eqs[eps]\n",
    "\n",
    "display(s.Eq(r, Eqs[r]))\n",
    "display(s.Eq(eps, Eqs[eps]))\n",
    "display(s.Eq(theta, Eqs[theta]))"
   ]
  },
  {
   "cell_type": "code",
   "execution_count": 80,
   "metadata": {},
   "outputs": [
    {
     "data": {
      "image/png": "[encoded data removed]",
      "text/plain": [
       "<Figure size 640x480 with 1 Axes>"
      ]
     },
     "metadata": {},
     "output_type": "display_data"
    }
   ],
   "source": [
    "# Finding the profile for the mating gear of the rack profile\n",
    "#   \"Gear 2\"\n",
    "res = 20\n",
    "Radius2 = 4\n",
    "# d = Gear Data\n",
    "d = {}\n",
    "d['y'] = np.linspace(-1, 1, 20)\n",
    "d['x'] = [Eqs[x].subs({y:ys}) for ys in d['y']]\n",
    "\n",
    "for var in ['x_p', 'r', 'eps', 'theta']:\n",
    "    d[var] = np.zeros(len(d['y']))\n",
    "\n",
    "for i in range(len(d['y'])):\n",
    "    vals = {y:d['y'][i], x:d['x'][i], R: Radius2}\n",
    "    d[\"x_p\"][i], vals[xp] = (Eqs[xp].subs(vals), )*2\n",
    "    d[\"r\"][i], vals[r] = (Eqs[r].subs(vals), )*2\n",
    "    d[\"eps\"][i], vals[eps] = (Eqs[eps].subs(vals), )*2\n",
    "    d[\"theta\"][i], vals[theta] = (Eqs[theta].subs(vals), )*2\n",
    "\n",
    "data_Gear2 = pd.DataFrame(d)\n",
    "data_Gear2['z'] = data_Gear2['r'] * np.exp(1j * data_Gear2['theta'])\n",
    "\n",
    "fig, ax = plt.subplots()\n",
    "ax.plot(np.real(data_Gear2['z']), np.imag(data_Gear2['z']))\n",
    "plt.show()"
   ]
  },
  {
   "cell_type": "markdown",
   "metadata": {},
   "source": [
    "Notice  that this profile could never function as a gear tooth due to this reversal on the right side; this is commonly called a 'cusp' in the profile. \n",
    "\n",
    "In this case, it is *in part* due to the defining path curve beginning to curve back on itself; adjusting the range of the curve should address some of this. There is additional constraint due to the particular radius of the Mating gear that may cause cusps as well.\n",
    "\n",
    "This will be more of a problem when beginning to develop full gear sets, and making sure that both sides of the gearset are capable of properly meshing (based on number of teeth and relative radial size). It will be re-approached later; for now it will be bypassed by adjusting the mating gear radius."
   ]
  },
  {
   "cell_type": "code",
   "execution_count": 81,
   "metadata": {},
   "outputs": [
    {
     "data": {
      "text/plain": [
       "<matplotlib.legend.Legend at 0x28e43e9f3d0>"
      ]
     },
     "execution_count": 81,
     "metadata": {},
     "output_type": "execute_result"
    },
    {
     "data": {
      "image/png": "[encoded data removed]",
      "text/plain": [
       "<Figure size 640x480 with 1 Axes>"
      ]
     },
     "metadata": {},
     "output_type": "display_data"
    }
   ],
   "source": [
    "Radius2 = 4\n",
    "ylim = .5\n",
    "\n",
    "res = 50 # resolution\n",
    "\n",
    "Eqs[x] = s.solve(Eqs[\"curveFunc\"], x)[0]\n",
    "Eqs[\"tphi\"] = s.diff(Eqs[x], y)\n",
    "Eqs[xp] = -1 * y / s.tan(Eqs['tphi'])\n",
    "\n",
    "# d = Gear Data\n",
    "d = {}\n",
    "d['y'] = list(np.linspace(-ylim, ylim, res))\n",
    "d['x'] = [Eqs[x].subs({y:ys}) for ys in d['y']]\n",
    "d[\"x_p\"] = [Eqs[xp].subs({y:coord[0], x:coord[1]}) for coord in [ [d['y'][i], d['x'][i]] for i in range(len(d['y']))] ]\n",
    "\n",
    "plt.plot(d['x'], d['y'], label = \"Mating Tooth Form\")\n",
    "plt.plot(d[\"x_p\"], d['y'], label = \"Contact Path\")\n",
    "plt.legend(bbox_to_anchor=(.8, .8),\n",
    "          bbox_transform=fig.transFigure)\n"
   ]
  },
  {
   "cell_type": "code",
   "execution_count": 82,
   "metadata": {},
   "outputs": [
    {
     "data": {
      "text/plain": [
       "<matplotlib.legend.Legend at 0x28e43eec790>"
      ]
     },
     "execution_count": 82,
     "metadata": {},
     "output_type": "execute_result"
    },
    {
     "data": {
      "image/png": "[encoded data removed]",
      "text/plain": [
       "<Figure size 640x480 with 1 Axes>"
      ]
     },
     "metadata": {},
     "output_type": "display_data"
    }
   ],
   "source": [
    "for var in ['r', 'eps', 'theta']:\n",
    "    d[var] = np.zeros(len(d['y']))\n",
    "\n",
    "for i in range(len(d['y'])):\n",
    "    vals = {y:d['y'][i], x:d['x'][i], xp:d['x_p'][i], R: Radius2}\n",
    "    d[\"r\"][i], vals[r] = (Eqs[r].subs(vals), )*2\n",
    "    d[\"eps\"][i], vals[eps] = (Eqs[eps].subs(vals), )*2\n",
    "    d[\"theta\"][i], vals[theta] = (Eqs[theta].subs(vals), )*2\n",
    "\n",
    "data_Gear2 = pd.DataFrame(d)\n",
    "# Note that by the definition of everything, the mating gear must be oriented in a specific way\n",
    "#   Hence the adjustments given -- rotating to be 'upright' rather than horizontal\n",
    "data_Gear2['z'] = data_Gear2['r'] * np.exp(1j * data_Gear2['theta'] +1j*np.pi*3/2) + Radius2*1j\n",
    "\n",
    "fig, ax = plt.subplots()\n",
    "ax.plot(np.real(data_Gear2['z']), np.imag(data_Gear2['z']), label = \"Mating Gear\")\n",
    "ax.plot(data_Gear2['x'], data_Gear2['y'], label = \"Rack Tooth\")\n",
    "ax.legend()"
   ]
  },
  {
   "cell_type": "code",
   "execution_count": 83,
   "metadata": {},
   "outputs": [
    {
     "data": {
      "text/html": [
       "<img src=\"./assets/RackAndGear.gif\">"
      ],
      "text/plain": [
       "<IPython.core.display.HTML object>"
      ]
     },
     "execution_count": 83,
     "metadata": {},
     "output_type": "execute_result"
    }
   ],
   "source": [
    "fig, ax = plt.subplots()\n",
    "\n",
    "MatingGear = lambda frame: rotateZ(data_Gear2['z'], data_Gear2['eps'][frame], Radius2*1j)\n",
    "MatingGear_plt = ax.plot(np.real(MatingGear(0)), np.imag(MatingGear(0)), label = \"Mating Gear\")[0]\n",
    "\n",
    "Rack = lambda frame: [complex(data_Gear2['x'][i] + (data_Gear2['x_p'][frame] - data_Gear2['x'][frame]),  data_Gear2['y'][i]) for i in range(res) ]\n",
    "Rack_plt = ax.plot(np.real(Rack(0)), np.imag(Rack(0)), label = \"Rack Tooth\")[0]\n",
    "\n",
    "ContactPt = lambda frame: complex(data_Gear2['x_p'][frame], data_Gear2['y'][frame])\n",
    "ContactPt_plt = ax.plot(np.real(ContactPt(0)), np.imag(ContactPt(0)), 'ro', label = \"Contact Point\")[0]\n",
    "\n",
    "Contact_plt = ax.plot(data_Gear2['x_p'], data_Gear2['y'], label = \"Contact Path\")\n",
    "\n",
    "frames = res\n",
    "def update(frame):\n",
    "    MatingGear_plt.set_xdata([np.real(MatingGear(frame))])\n",
    "    MatingGear_plt.set_ydata([np.imag(MatingGear(frame))])\n",
    "    Rack_plt.set_xdata([np.real(Rack(frame))])\n",
    "    Rack_plt.set_ydata([np.imag(Rack(frame))])\n",
    "    ContactPt_plt.set_xdata([np.real(ContactPt(frame))])\n",
    "    ContactPt_plt.set_ydata([np.imag(ContactPt(frame))]) \n",
    "    return (MatingGear_plt, Rack_plt, ContactPt_plt)\n",
    "\n",
    "ax.set_xlim(-float(max(data_Gear2['x_p'])*1.5), float(max(data_Gear2['x_p'])*1.5))\n",
    "ax.set_ylim(Radius2 - float(max(data_Gear2['r']) * 1.1), Radius2 - float(min(data_Gear2['r']))*.9)\n",
    "ax.legend(bbox_to_anchor = (.4, .85),\n",
    "          bbox_transform=fig.transFigure)\n",
    "ani = anim.FuncAnimation(fig = fig, func = update, frames = frames, interval = 1)\n",
    "if reload_Gifs:\n",
    "    ani.save(\"assets/RackAndGear.gif\", writer = 'pillow')\n",
    "plt.close()\n",
    "HTML('<img src=\"./assets/RackAndGear.gif\">')"
   ]
  },
  {
   "cell_type": "markdown",
   "metadata": {},
   "source": [
    "To turn this into a full gear from these singular curves requires determining a desired and functional tooth space (as measured along the pitch line/circle), which is directly proportional to the number of gear teeth to be added. The relation is through the idea of **pitch** or **module**: the number of teeth to be laid out along some certain length around the pitch circle or line, sort of the 'frequency'. \n",
    "\n",
    "The number of gear teeth required for continuous engagement of the gears (_generally speaking, the lower bound of teeth_) can be determined by analyzing the total paths that the gears traverse in their engagement motion. This is the sum of the 'arc of approach' and the 'arc of recess', or the (max - min) of $\\epsilon$. Simply divide $2 \\pi$ by this radian angular value to find the minimum tooth count $Z_{min}$. The equivalent for the rack would be the (max - min) of $x_p$, but by nature racks don't have a length limitation in the same way a circle is limited to $2 \\pi$.\n",
    "\n",
    "There is also a theoretical upper bound being the width of the tooth profiles themselves, which would be **half** the (max - min) of $\\theta$ for the gears or $x$ for the rack  (since there are two profiles for each flank), though this is generally less of a concern.\n",
    "\n",
    "For a gear, the circular tooth thickness $CTT$ is the arc measure of the desired tooth angular spacing $ ^1$. For the theoretical/'ideal' case, the $CTT_{ideal}$ is equal to half of the circular pitch -- the pitch being specifically the spacing between a pair of a gear tooth and the space until the next tooth $ ^2$. Thus $CTT_i = \\frac{1}{2} \\frac{2 \\pi}{Z} \\times R$. The rack would then have the same tooth thickness, just as a linear dimension equal to the arc length.\n",
    "\n",
    "For the purposes of plotting / layouts, one will generally use half the $CTT_i$ to be able to properly mirror the tooth profile.\n",
    "\n",
    "*$ ^1$ In functional gears, additional clearance is given between gears to allow for proper meshing for imperfections and different environmental changes -- Backlash. This will decrease the $CTT$ from the theoretical value.*\n",
    "\n",
    "*$ ^2$ The pitch given is the ***Circular Pitch***, $P = 2 \\pi R / Z$. The Diametral Pitch -- generally used as it favors whole numbers -- is the inverse of the pitch, and scaled to be in reference to the diameter : $P_D = Z / (2R) = 1/P * \\pi$. The module is the inverse of the diametral pitch, $m = 2R/Z$. In the sense that pitch is the arc width taken up by one gear/space pair, the diametral pitch is the number of gear/space pairs contained in a unit width -- normalized to the diametral width rather than circumferential; the module is just the pitch, normalized to remove the constant $2 \\pi$ factor.*"
   ]
  },
  {
   "cell_type": "code",
   "execution_count": 84,
   "metadata": {},
   "outputs": [
    {
     "data": {
      "text/plain": [
       "'Minimum Number of Teeth for Continuous Engagement: 11.0'"
      ]
     },
     "metadata": {},
     "output_type": "display_data"
    },
    {
     "data": {
      "text/plain": [
       "'Maximum Number of Teeth before Intersection of Profiles: 18.0'"
      ]
     },
     "metadata": {},
     "output_type": "display_data"
    }
   ],
   "source": [
    "minTooth2 = np.ceil(2 * np.pi / (max(data_Gear2[\"eps\"]) - min(data_Gear2[\"eps\"])))\n",
    "display(\"Minimum Number of Teeth for Continuous Engagement: %s\" % (minTooth2))\n",
    "maxTooth2 = np.ceil(np.pi / (max(data_Gear2[\"theta\"] - min(data_Gear2[\"theta\"]))))\n",
    "display(\"Maximum Number of Teeth before Intersection of Profiles: %s\" % (maxTooth2))\n"
   ]
  },
  {
   "cell_type": "code",
   "execution_count": 85,
   "metadata": {},
   "outputs": [
    {
     "data": {
      "image/png": "[encoded data removed]",
      "text/plain": [
       "<Figure size 640x480 with 1 Axes>"
      ]
     },
     "metadata": {},
     "output_type": "display_data"
    }
   ],
   "source": [
    "toothCt2 = 14\n",
    "\n",
    "Gear2 = [complex() for _ in range(toothCt2*2)]\n",
    "Gear2[0] = data_Gear2['z']\n",
    "Gear2[1] = mirrorZ(data_Gear2['z'], np.pi*3/2 - np.pi/(toothCt2*2), centerPt= Radius2*1j)\n",
    "for i in range(len(Gear2) - 2):\n",
    "    Gear2[i + 2] = rotateZ(Gear2[i], -2*np.pi/toothCt2, centerPt= 1j * Radius2)\n",
    "\n",
    "GearR = [complex() for _ in range(toothCt2*2)]\n",
    "GearR[0] = [complex(data_Gear2['x'][i], data_Gear2['y'][i]) for i in range(res)]\n",
    "GearR[1] = mirrorZ(GearR[0], np.pi/2, complex(np.pi/(toothCt2*2) * Radius2,0))\n",
    "for i in range(len(Gear2) - 2):\n",
    "    GearR[i+2] = [g + 2*np.pi/(toothCt2) * Radius2 for g in GearR[i]]\n",
    "\n",
    "for i in range(len(Gear2)):\n",
    "    plt.plot(np.real(Gear2[i]), np.imag(Gear2[i]), 'orange')\n",
    "    plt.plot(np.real(GearR[i]), np.imag(GearR[i]), 'blue')"
   ]
  },
  {
   "cell_type": "code",
   "execution_count": 86,
   "metadata": {},
   "outputs": [
    {
     "data": {
      "text/html": [
       "<img src=\"./assets/RackAndGearFull.gif\">"
      ],
      "text/plain": [
       "<IPython.core.display.HTML object>"
      ]
     },
     "execution_count": 86,
     "metadata": {},
     "output_type": "execute_result"
    }
   ],
   "source": [
    "fig, ax = plt.subplots()\n",
    "\n",
    "# Melting into a single column for simplicity of plotting\n",
    "Gear2f = [complex() for _ in range(res * toothCt2 * 2)]\n",
    "GearRf = [complex() for _ in range(res * toothCt2 * 2)] \n",
    "for i in range(toothCt2 * 2):\n",
    "    for j in range(res):\n",
    "        if np.mod(i, 2) == 0:\n",
    "            Gear2f[i * res + j] = Gear2[i][res-1 - j]\n",
    "            GearRf[i * res + j] = GearR[i][j]\n",
    "        else:\n",
    "            Gear2f[i * res + j] = Gear2[i][j]\n",
    "            GearRf[i * res + j] = GearR[i][res-1 - j]\n",
    "\n",
    "MatingGear_plt = ax.plot(np.real(Gear2f), np.imag(Gear2f), 'orange')[0]\n",
    "Rack_plt = ax.plot(np.real(GearRf), np.imag(GearRf), 'blue')[0]\n",
    "\n",
    "frames = res * 4\n",
    "def update(frame):\n",
    "    if frame <= frames/2:\n",
    "        MatingGear_curr = rotateZ(Gear2f, -np.pi*2/frames * frame, Radius2 * 1j)\n",
    "        Rack_plt.set_xdata(np.real(GearRf) - (np.pi*2/frames * frame * Radius2))\n",
    "    else: \n",
    "        MatingGear_curr = rotateZ(Gear2f, -np.pi*2/frames * (frames - frame), Radius2 * 1j)\n",
    "        Rack_plt.set_xdata(np.real(GearRf) - (np.pi*2/frames * (frames - frame) * Radius2))\n",
    "    MatingGear_plt.set_xdata(np.real(MatingGear_curr))\n",
    "    MatingGear_plt.set_ydata(np.imag(MatingGear_curr))\n",
    "\n",
    "    return (MatingGear_plt, Rack_plt)\n",
    "\n",
    "ax.set_aspect('equal')\n",
    "ax.set_xlim(-2, 2)\n",
    "ax.set_ylim(-2, 2)\n",
    "ani = anim.FuncAnimation(fig = fig, func = update, frames = frames, interval = .5)\n",
    "if reload_Gifs:\n",
    "    ani.save(\"assets/RackAndGearFull.gif\", writer = \"pillow\")\n",
    "plt.close()\n",
    "HTML('<img src=\"./assets/RackAndGearFull.gif\">')"
   ]
  },
  {
   "cell_type": "markdown",
   "metadata": {},
   "source": [
    "### Creating the Drive Gear\n",
    "\n",
    "Converting the Driving Rack into a Driving Gear"
   ]
  },
  {
   "cell_type": "markdown",
   "metadata": {},
   "source": [
    "The formulation of a Drive Gear is very straightforward with the rack and profile curve already defined. It is the exact same process as before, but this time in reference to a gear formed by cutting to the 'inside' of the rack profile, rather than the 'outside' as used by the mating gear. \n",
    "\n",
    "In application, it is simply flipping the sign of the $x$ and $x_p$ values for the equivalent $y$ values in the mating gear."
   ]
  },
  {
   "cell_type": "code",
   "execution_count": 87,
   "metadata": {},
   "outputs": [
    {
     "data": {
      "text/plain": [
       "<matplotlib.legend.Legend at 0x28e43eb73d0>"
      ]
     },
     "execution_count": 87,
     "metadata": {},
     "output_type": "execute_result"
    },
    {
     "data": {
      "image/png": "[encoded data removed]",
      "text/plain": [
       "<Figure size 640x480 with 1 Axes>"
      ]
     },
     "metadata": {},
     "output_type": "display_data"
    }
   ],
   "source": [
    "Radius1 = 4\n",
    "\n",
    "# Flip the values\n",
    "data_Gear1 = data_Gear2[[\"y\"]].map(lambda y: -y)\n",
    "data_Gear1 = data_Gear1.join(data_Gear2[[\"x\"]].map(lambda x: -x))\n",
    "data_Gear1 = data_Gear1.join(data_Gear2[[\"x_p\"]].map(lambda xp: -xp))\n",
    "\n",
    "# Solving\n",
    "d = {}\n",
    "for var in ['r', 'eps', 'theta']:\n",
    "    d[var] = np.zeros(len(data_Gear1['y']))\n",
    "d['z'] = [complex() for _ in range(len(data_Gear1[['y']]))]\n",
    "\n",
    "for i in range(len(data_Gear1['y'])):\n",
    "    vals = {y:data_Gear1['y'][i],\n",
    "            x:data_Gear1['x'][i],\n",
    "            xp:data_Gear1['x_p'][i],\n",
    "            R: Radius1}\n",
    "    d[\"r\"][i], vals[r] = (Eqs[r].subs(vals), )*2\n",
    "    d[\"eps\"][i], vals[eps] =  (Eqs[eps].subs(vals), )*2\n",
    "    d[\"theta\"][i], vals[theta] = (Eqs[theta].subs(vals), )*2\n",
    "\n",
    "    d[\"z\"][i] = complex(vals[r] * np.exp(1j * (float(vals[theta]) + np.pi*1/2)) - Radius1*1j)\n",
    "\n",
    "data_Gear1 = data_Gear1.join(pd.DataFrame(d))\n",
    "\n",
    "plt.plot(data_Gear1['x'], data_Gear1['y'], label = \"Rack Tooth\")\n",
    "plt.plot(data_Gear1['x_p'], data_Gear1['y'], label = \"Contact Path\")\n",
    "plt.plot(np.real(data_Gear1['z']), np.imag(data_Gear1['z']), label = \"Driving Gear\")\n",
    "plt.legend()"
   ]
  },
  {
   "cell_type": "markdown",
   "metadata": {},
   "source": [
    "Note here the cusp of the Driving profile on the left side; this would need trimmed away to create a functional gear. For now, it will be ignored."
   ]
  },
  {
   "cell_type": "code",
   "execution_count": 88,
   "metadata": {},
   "outputs": [
    {
     "data": {
      "text/plain": [
       "'Minimum Number of Teeth for Continuous Engagement: 11.0'"
      ]
     },
     "metadata": {},
     "output_type": "display_data"
    },
    {
     "data": {
      "text/plain": [
       "'Maximum Number of Teeth before Intersection of Profiles: 24.0'"
      ]
     },
     "metadata": {},
     "output_type": "display_data"
    }
   ],
   "source": [
    "minTooth1 = np.ceil(2 * np.pi / (max(data_Gear1[\"eps\"]) - min(data_Gear1[\"eps\"])))\n",
    "display(\"Minimum Number of Teeth for Continuous Engagement: %s\" % (minTooth1))\n",
    "maxTooth1 = np.floor(np.pi / (max(data_Gear1[\"theta\"] - min(data_Gear1[\"theta\"]))))\n",
    "display(\"Maximum Number of Teeth before Intersection of Profiles: %s\" % (maxTooth1))\n"
   ]
  },
  {
   "cell_type": "code",
   "execution_count": 89,
   "metadata": {},
   "outputs": [
    {
     "data": {
      "text/plain": [
       "'Circular Pitch: Gear1 =  1.7951958020513104 | Gear2 = 1.7951958020513104'"
      ]
     },
     "metadata": {},
     "output_type": "display_data"
    },
    {
     "data": {
      "text/plain": [
       "'Equivalent Diametral Pitch: Gear1 = 0.5714285714285714 | Gear2 = 0.5714285714285714'"
      ]
     },
     "metadata": {},
     "output_type": "display_data"
    },
    {
     "data": {
      "text/plain": [
       "'Equivalent Module: Gear1 = 1.75 | Gear2 = 1.75'"
      ]
     },
     "metadata": {},
     "output_type": "display_data"
    },
    {
     "data": {
      "text/html": [
       "<img src=\"./assets/GearAndGearFull.gif\">"
      ],
      "text/plain": [
       "<IPython.core.display.HTML object>"
      ]
     },
     "execution_count": 89,
     "metadata": {},
     "output_type": "execute_result"
    }
   ],
   "source": [
    "toothCt1 = 14\n",
    "display('Circular Pitch: Gear1 =  %s | Gear2 = %s' % (2*np.pi* Radius1/toothCt1, 2*np.pi*Radius2/toothCt2))\n",
    "display('Equivalent Diametral Pitch: Gear1 = %s | Gear2 = %s' % (Radius1*2/toothCt1, Radius2*2/toothCt2))\n",
    "display('Equivalent Module: Gear1 = %s | Gear2 = %s' % (toothCt1/Radius1/2, toothCt2/Radius2/2))\n",
    "\n",
    "# Defining the Basis Gear Geometry\n",
    "Gear1 = [complex() for _ in range(toothCt1*2)]\n",
    "Gear1[0] = data_Gear1['z']\n",
    "Gear1[1] = mirrorZ(data_Gear1['z'], np.pi*1/2 + np.pi/(toothCt1*2), centerPt= -Radius1*1j)\n",
    "for i in range(len(Gear1) - 2):\n",
    "    Gear1[i + 2] = rotateZ(Gear1[i], 2*np.pi/toothCt1, centerPt= 1j * -Radius1)\n",
    "\n",
    "# Melting the Gear 1 data into a single column\n",
    "Gear1f = [complex() for _ in range(res *toothCt1 *2)]\n",
    "for i in range(toothCt1*2):\n",
    "    for j in range(res):\n",
    "        if np.mod(i, 2) == 0:\n",
    "            Gear1f[i * res + j] = Gear1[i][res-1 -j]\n",
    "        else:\n",
    "            Gear1f[i * res + j] = Gear1[i][j]\n",
    "\n",
    "fig, ax = plt.subplots()\n",
    "\n",
    "MatingGear_plt = ax.plot(np.real(Gear2f), np.imag(Gear2f))[0]\n",
    "DrivingGear_plt = ax.plot(np.real(Gear1f), np.imag(Gear1f))[0]\n",
    "Contact_plt = ax.plot(-data_Gear2['x_p'], data_Gear2['y'])[0]\n",
    "\n",
    "## Contact Point dances around the teeth rather than following the path ~ no backlash in teeth.\n",
    "#ContactPt_index = np.argmin([np.abs(np.subtract(Gear1[0][i], Gear2[0][i])) for i in range(len(Gear1[0]))])\n",
    "#ContactPt = Gear1[0][ContactPt_index]\n",
    "#ContactPt_plt = ax.plot(np.real(ContactPt), np.imag(ContactPt), 'ro', label = \"Contact Point\")[0]\n",
    "\n",
    "frames = res*2\n",
    "def update(frame):\n",
    "    #Gear1t1_curr = rotateZ(Gear1[0], -np.pi/frames * frame, Radius2 * 1j)\n",
    "    #Gear2t1_curr = rotateZ(Gear2[0], -np.pi/frames * frame, Radius2 * 1j)\n",
    "\n",
    "    MatingGear_curr = rotateZ(Gear2f, -np.pi/frames * frame, Radius2 * 1j)\n",
    "    DrivingGear_curr = rotateZ(Gear1f, np.pi/frames * frame * toothCt2/toothCt1, Radius1 * -1j)\n",
    "\n",
    "    #ContactPt_index = np.argmin([np.abs(np.subtract(Gear1t1_curr[i], Gear2t1_curr[i])) for i in range(len(Gear2t1_curr))])\n",
    "    #ContactPt = Gear1t1_curr[ContactPt_index]\n",
    "\n",
    "    MatingGear_plt.set_xdata(np.real(MatingGear_curr))\n",
    "    MatingGear_plt.set_ydata(np.imag(MatingGear_curr))\n",
    "    DrivingGear_plt.set_xdata(np.real(DrivingGear_curr))\n",
    "    DrivingGear_plt.set_ydata(np.imag(DrivingGear_curr))\n",
    "    \n",
    "    #ContactPt_plt.set_xdata([np.real(ContactPt)])\n",
    "    #ContactPt_plt.set_ydata([np.imag(ContactPt)]) \n",
    "\n",
    "    return (MatingGear_plt, DrivingGear_plt, Contact_plt)#, ContactPt_plt)\n",
    "\n",
    "ax.set_aspect('equal')\n",
    "ani = anim.FuncAnimation(fig = fig, func = update, frames = frames, interval = .5)\n",
    "if reload_Gifs:\n",
    "    ani.save(\"assets/GearAndGearFull.gif\", writer = 'pillow')\n",
    "plt.close()\n",
    "HTML('<img src=\"./assets/GearAndGearFull.gif\">')"
   ]
  },
  {
   "cell_type": "code",
   "execution_count": 40,
   "metadata": {},
   "outputs": [
    {
     "data": {
      "text/html": [
       "<img src=\"./assets/GearAndGearFull_zoom.gif\">"
      ],
      "text/plain": [
       "<IPython.core.display.HTML object>"
      ]
     },
     "execution_count": 40,
     "metadata": {},
     "output_type": "execute_result"
    }
   ],
   "source": [
    "fig, ax = plt.subplots()\n",
    "\n",
    "MatingGear_plt = ax.plot(np.real(Gear2f), np.imag(Gear2f))[0]\n",
    "DrivingGear_plt = ax.plot(np.real(Gear1f), np.imag(Gear1f))[0]\n",
    "Contact_plt = ax.plot(-data_Gear2['x_p'], data_Gear2['y'])[0]\n",
    "ax.set_aspect('equal')\n",
    "ax.set_xlim(-2, 2)\n",
    "ax.set_ylim(-2, 2)\n",
    "ani = anim.FuncAnimation(fig = fig, func = update, frames = frames, interval = .5)\n",
    "if reload_Gifs:\n",
    "    ani.save(\"assets/GearAndGearFull_zoom.gif\", writer = 'pillow')\n",
    "plt.close()\n",
    "HTML('<img src=\"./assets/GearAndGearFull_zoom.gif\">')\n"
   ]
  },
  {
   "cell_type": "markdown",
   "metadata": {},
   "source": [
    "Keep in mind that the Pitch of the gears must be equal for proper meshing:"
   ]
  },
  {
   "cell_type": "code",
   "execution_count": 41,
   "metadata": {},
   "outputs": [
    {
     "data": {
      "text/plain": [
       "'Module: Gear1 = 2.125 | Gear2 = 1.75'"
      ]
     },
     "metadata": {},
     "output_type": "display_data"
    },
    {
     "data": {
      "text/html": [
       "<img src=\"./assets/GearAndGearFull_DifferentModules_zoom.gif\">"
      ],
      "text/plain": [
       "<IPython.core.display.HTML object>"
      ]
     },
     "execution_count": 41,
     "metadata": {},
     "output_type": "execute_result"
    }
   ],
   "source": [
    "Radius1 = 4\n",
    "toothCt1 = 17\n",
    "display('Module: Gear1 = %s | Gear2 = %s' % (toothCt1/Radius1/2, toothCt2/Radius2/2))\n",
    "\n",
    "fig, ax = plt.subplots()\n",
    "\n",
    "data_Gear1 = data_Gear2[[\"y\"]].map(lambda y: -y)\n",
    "data_Gear1 = data_Gear1.join(data_Gear2[[\"x\"]].map(lambda x: -x))\n",
    "data_Gear1 = data_Gear1.join(data_Gear2[[\"x_p\"]].map(lambda xp: -xp))\n",
    "\n",
    "d = {}\n",
    "for var in ['r', 'eps', 'theta']:\n",
    "    d[var] = np.zeros(len(data_Gear1['y']))\n",
    "d['z'] = [complex() for _ in range(len(data_Gear1[['y']]))]\n",
    "\n",
    "for i in range(len(data_Gear1['y'])):\n",
    "    vals = {y:data_Gear1['y'][i],\n",
    "            x:data_Gear1['x'][i],\n",
    "            xp:data_Gear1['x_p'][i],\n",
    "            R: Radius1}\n",
    "    d[\"r\"][i], vals[r] = (Eqs[r].subs(vals), )*2\n",
    "    d[\"eps\"][i], vals[eps] =  (Eqs[eps].subs(vals), )*2\n",
    "    d[\"theta\"][i], vals[theta] = (Eqs[theta].subs(vals), )*2\n",
    "\n",
    "    d[\"z\"][i] = complex(vals[r] * np.exp(1j * (float(vals[theta]) + np.pi*1/2)) - Radius1*1j)\n",
    "\n",
    "data_Gear1 = data_Gear1.join(pd.DataFrame(d))\n",
    "\n",
    "Gear1 = [complex() for _ in range(toothCt1*2)]\n",
    "Gear1[0] = data_Gear1['z']\n",
    "Gear1[1] = mirrorZ(data_Gear1['z'], np.pi*1/2 + np.pi/(toothCt1*2), centerPt= -Radius1*1j)\n",
    "for i in range(len(Gear1) - 2):\n",
    "    Gear1[i + 2] = rotateZ(Gear1[i], 2*np.pi/toothCt1, centerPt= 1j * -Radius1)\n",
    "\n",
    "Gear1f = [complex() for _ in range(res *toothCt1 *2)]\n",
    "for i in range(toothCt1*2):\n",
    "    for j in range(res):\n",
    "        if np.mod(i, 2) == 0:\n",
    "            Gear1f[i * res + j] = Gear1[i][res-1 -j]\n",
    "        else:\n",
    "            Gear1f[i * res + j] = Gear1[i][j]\n",
    "\n",
    "MatingGear_plt = ax.plot(np.real(Gear2f), np.imag(Gear2f))[0]\n",
    "DrivingGear_plt = ax.plot(np.real(Gear1f), np.imag(Gear1f))[0]\n",
    "Contact_plt = ax.plot(data_Gear2['x_p'], data_Gear2['y'])[0]\n",
    "\n",
    "frames = res*3\n",
    "def update(frame):\n",
    "    MatingGear_curr = rotateZ(Gear2f, -np.pi/frames * frame, Radius2 * 1j)\n",
    "    DrivingGear_curr = rotateZ(Gear1f, np.pi/frames * frame * toothCt2/toothCt1, Radius1 * -1j)\n",
    "\n",
    "    MatingGear_plt.set_xdata(np.real(MatingGear_curr))\n",
    "    MatingGear_plt.set_ydata(np.imag(MatingGear_curr))\n",
    "    DrivingGear_plt.set_xdata(np.real(DrivingGear_curr))\n",
    "    DrivingGear_plt.set_ydata(np.imag(DrivingGear_curr))\n",
    "\n",
    "    return (MatingGear_plt, DrivingGear_plt, Contact_plt)\n",
    "\n",
    "ax.set_aspect('equal')\n",
    "ax.set_xlim(-2, 2)\n",
    "ax.set_ylim(-2, 2)\n",
    "ani = anim.FuncAnimation(fig = fig, func = update, frames = frames, interval = .5)\n",
    "if reload_Gifs:\n",
    "    ani.save(\"assets/GearAndGearFull_DifferentModules_zoom.gif\", writer = 'pillow')\n",
    "plt.close()\n",
    "HTML('<img src=\"./assets/GearAndGearFull_DifferentModules_zoom.gif\">')\n"
   ]
  },
  {
   "cell_type": "markdown",
   "metadata": {},
   "source": [
    "Clearly, that is not working as intended. The proportions of the gears must be kept in agreement for proper meshing; see below.\n",
    "\n",
    " **Note as well**, the forms for these gears are __fully dependent__ on the given input radii; it is common knowledge that cycloidal/involute gear forms are able to mesh indepedent of base diameter, but this is __NOT__ true for general conjugate action."
   ]
  },
  {
   "cell_type": "code",
   "execution_count": 42,
   "metadata": {},
   "outputs": [
    {
     "data": {
      "text/plain": [
       "'Module: Gear1 = 1.75 | Gear2 = 1.75'"
      ]
     },
     "metadata": {},
     "output_type": "display_data"
    },
    {
     "data": {
      "text/html": [
       "<img src=\"./assets/GearAndGearFull_SameModules.gif\">"
      ],
      "text/plain": [
       "<IPython.core.display.HTML object>"
      ]
     },
     "execution_count": 42,
     "metadata": {},
     "output_type": "execute_result"
    }
   ],
   "source": [
    "Radius1 = 8\n",
    "toothCt1 = int(1.75 * Radius1 * 2)\n",
    "display('Module: Gear1 = %s | Gear2 = %s' % (toothCt1/Radius1/2, toothCt2/Radius2/2))\n",
    "\n",
    "fig, ax = plt.subplots()\n",
    "\n",
    "data_Gear1 = data_Gear2[[\"y\"]].map(lambda y: -y)\n",
    "data_Gear1 = data_Gear1.join(data_Gear2[[\"x\"]].map(lambda x: -x))\n",
    "data_Gear1 = data_Gear1.join(data_Gear2[[\"x_p\"]].map(lambda xp: -xp))\n",
    "\n",
    "d = {}\n",
    "for var in ['r', 'eps', 'theta']:\n",
    "    d[var] = np.zeros(len(data_Gear1['y']))\n",
    "d['z'] = [complex() for _ in range(len(data_Gear1[['y']]))]\n",
    "\n",
    "for i in range(len(data_Gear1['y'])):\n",
    "    vals = {y:data_Gear1['y'][i],\n",
    "            x:data_Gear1['x'][i],\n",
    "            xp:data_Gear1['x_p'][i],\n",
    "            R: Radius1}\n",
    "    d[\"r\"][i], vals[r] = (Eqs[r].subs(vals), )*2\n",
    "    d[\"eps\"][i], vals[eps] =  (Eqs[eps].subs(vals), )*2\n",
    "    d[\"theta\"][i], vals[theta] = (Eqs[theta].subs(vals), )*2\n",
    "\n",
    "    d[\"z\"][i] = complex(vals[r] * np.exp(1j * (float(vals[theta]) + np.pi*1/2)) - Radius1*1j)\n",
    "\n",
    "data_Gear1 = data_Gear1.join(pd.DataFrame(d))\n",
    "\n",
    "Gear1 = [complex() for _ in range(toothCt1*2)]\n",
    "Gear1[0] = data_Gear1['z']\n",
    "Gear1[1] = mirrorZ(data_Gear1['z'], np.pi*1/2 + np.pi/(toothCt1*2), centerPt= -Radius1*1j)\n",
    "for i in range(len(Gear1) - 2):\n",
    "    Gear1[i + 2] = rotateZ(Gear1[i], 2*np.pi/toothCt1, centerPt= 1j * -Radius1)\n",
    "\n",
    "Gear1f = [complex() for _ in range(res *toothCt1 *2)]\n",
    "for i in range(toothCt1*2):\n",
    "    for j in range(res):\n",
    "        if np.mod(i, 2) == 0:\n",
    "            Gear1f[i * res + j] = Gear1[i][res-1 -j]\n",
    "        else:\n",
    "            Gear1f[i * res + j] = Gear1[i][j]\n",
    "\n",
    "MatingGear_plt = ax.plot(np.real(Gear2f), np.imag(Gear2f))[0]\n",
    "DrivingGear_plt = ax.plot(np.real(Gear1f), np.imag(Gear1f))[0]\n",
    "#Contact_plt = ax.plot(-data_Gear2['x_p'], data_Gear2['y'])[0]\n",
    "\n",
    "frames = res*3\n",
    "def update(frame):\n",
    "    MatingGear_curr = rotateZ(Gear2f, -2*np.pi/frames * frame, Radius2 * 1j)\n",
    "    DrivingGear_curr = rotateZ(Gear1f, 2*np.pi/frames * frame * toothCt2/toothCt1, Radius1 * -1j)\n",
    "\n",
    "    MatingGear_plt.set_xdata(np.real(MatingGear_curr))\n",
    "    MatingGear_plt.set_ydata(np.imag(MatingGear_curr))\n",
    "    DrivingGear_plt.set_xdata(np.real(DrivingGear_curr))\n",
    "    DrivingGear_plt.set_ydata(np.imag(DrivingGear_curr))\n",
    "\n",
    "    return (MatingGear_plt, DrivingGear_plt) #, Contact_plt)\n",
    "\n",
    "ax.set_aspect('equal')\n",
    "ani = anim.FuncAnimation(fig = fig, func = update, frames = frames, interval = .5)\n",
    "if reload_Gifs:\n",
    "    ani.save(\"assets/GearAndGearFull_SameModules.gif\", writer = 'pillow')\n",
    "plt.close()\n",
    "\n",
    "HTML('<img src=\"./assets/GearAndGearFull_SameModules.gif\">')\n"
   ]
  },
  {
   "cell_type": "code",
   "execution_count": 43,
   "metadata": {},
   "outputs": [
    {
     "data": {
      "text/plain": [
       "{'RackMate': {x_p: -y/tan(\\phi),\n",
       "  r: sqrt(x_p**2 + (R - y)**2),\n",
       "  \\epsilon: (-x + x_p)/R,\n",
       "  \\theta: atan(x_p/(R - y)) - (-x + x_p)/R}}"
      ]
     },
     "metadata": {},
     "output_type": "display_data"
    }
   ],
   "source": [
    "# Storing particular rack formulas for later:\n",
    "x, y, xp, phi = s.symbols(\"x y x_p \\\\phi\")\n",
    "eps, theta, r, R = s.symbols(\"\\\\epsilon \\\\theta r R\")\n",
    "\n",
    "Eqs = {}\n",
    "Eqs[xp] = -1 * y / s.tan(phi)\n",
    "Eqs[r] = s.sqrt( (R - y)**2 + xp**2 )\n",
    "Eqs[eps] = (xp - x)/R\n",
    "Eqs[theta] = s.atan(xp / (R - y)) - Eqs[eps]\n",
    "\n",
    "Eqset = {\"RackMate\": Eqs}\n",
    "display(Eqset)\n",
    "\n",
    "Eqs = {}"
   ]
  },
  {
   "cell_type": "markdown",
   "metadata": {},
   "source": [
    "## Next: Gear Tooth Defined"
   ]
  }
 ],
 "metadata": {
  "kernelspec": {
   "display_name": "gear",
   "language": "python",
   "name": "python3"
  },
  "language_info": {
   "codemirror_mode": {
    "name": "ipython",
    "version": 3
   },
   "file_extension": ".py",
   "mimetype": "text/x-python",
   "name": "python",
   "nbconvert_exporter": "python",
   "pygments_lexer": "ipython3",
   "version": "3.11.10"
  }
 },
 "nbformat": 4,
 "nbformat_minor": 2
}
