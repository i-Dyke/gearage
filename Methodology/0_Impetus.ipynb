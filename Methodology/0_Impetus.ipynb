{
 "cells": [
  {
   "cell_type": "code",
   "execution_count": 2,
   "metadata": {},
   "outputs": [],
   "source": [
    "from IPython.display import HTML"
   ]
  },
  {
   "cell_type": "markdown",
   "metadata": {},
   "source": [
    "The following chain of 'chaptered' gear analysis notebooks is intended to be a follow-along to the 1949 study \n",
    "_Analytical Mechanics of Gears_, by Earle Buckingham.\n",
    "\n",
    "It is an incredibly involved and useful book describing much of the basis mathematics, design aspects, and specific applications with the particulars of gear design. \n",
    "\n",
    "However, the actual 'descriptive rigor' within the work is rather low -- it is quick to present ideas, though not always so willing to fully justify itself as it does so. Generally, the processes it describes in creating the various curves and profiles can be difficult to follow.\n",
    "\n",
    "This series of notebooks, thus, seeks to:\n",
    "\n",
    "1) Implement the formulas and functions described by Buckingham\n",
    "\n",
    "2) Expand on the formulas and functions to make them more visually, dynamically intuitive: Graphs and gifs of the process of developing the given rack and gearsets.\n",
    "\n",
    "3) Review and establish logic or justifications for the formulas that are missing discussion on the underlying trigonometric and kinematics at play -- develop the intuition for the underlying mathematics."
   ]
  },
  {
   "cell_type": "code",
   "execution_count": 3,
   "metadata": {},
   "outputs": [
    {
     "data": {
      "text/html": [
       "<img src=\"./assets/GearAndGearFull_SameModules.gif\">"
      ],
      "text/plain": [
       "<IPython.core.display.HTML object>"
      ]
     },
     "execution_count": 3,
     "metadata": {},
     "output_type": "execute_result"
    }
   ],
   "source": [
    "HTML('<img src=\"./assets/GearAndGearFull_SameModules.gif\">')"
   ]
  }
 ],
 "metadata": {
  "kernelspec": {
   "display_name": "gear",
   "language": "python",
   "name": "python3"
  },
  "language_info": {
   "codemirror_mode": {
    "name": "ipython",
    "version": 3
   },
   "file_extension": ".py",
   "mimetype": "text/x-python",
   "name": "python",
   "nbconvert_exporter": "python",
   "pygments_lexer": "ipython3",
   "version": "3.13.0"
  }
 },
 "nbformat": 4,
 "nbformat_minor": 2
}
